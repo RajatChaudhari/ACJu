{
 "cells": [
  {
   "cell_type": "code",
   "execution_count": 1,
   "metadata": {},
   "outputs": [
    {
     "name": "stderr",
     "output_type": "stream",
     "text": [
      "C:\\D\\Installation\\Anaconda3\\lib\\site-packages\\gensim\\utils.py:1197: UserWarning: detected Windows; aliasing chunkize to chunkize_serial\n",
      "  warnings.warn(\"detected Windows; aliasing chunkize to chunkize_serial\")\n"
     ]
    }
   ],
   "source": [
    "import pandas as pd\n",
    "import numpy as np\n",
    "import nltk\n",
    "import gensim\n",
    "pd.set_option('display.max_colwidth',1000)\n",
    "pd.set_option('display.max_columns', None)\n",
    "pd.set_option('display.max_rows', None)\n",
    "from gensim.models.doc2vec import Doc2Vec, TaggedDocument\n",
    "from pandas import DataFrame, ExcelFile, read_csv, read_excel"
   ]
  },
  {
   "cell_type": "code",
   "execution_count": 2,
   "metadata": {},
   "outputs": [],
   "source": [
    "path = '../Jupyter/2016 - 2018 Taleo Job Postings - Updated.xlsx'\n",
    "xls = pd.ExcelFile(path, sep = ';', encoding = 'utf-8')\n",
    "df = read_excel(xls, 'All')"
   ]
  },
  {
   "cell_type": "code",
   "execution_count": 3,
   "metadata": {},
   "outputs": [],
   "source": [
    "responsibilities=df[\"External: Responsibilities\"]"
   ]
  },
  {
   "cell_type": "code",
   "execution_count": 4,
   "metadata": {},
   "outputs": [],
   "source": [
    "responsibilities.dropna(inplace=True)"
   ]
  },
  {
   "cell_type": "code",
   "execution_count": 5,
   "metadata": {},
   "outputs": [],
   "source": [
    "from gensim.parsing.preprocessing import remove_stopwords,strip_punctuation,strip_punctuation2,preprocess_string,strip_non_alphanum\n",
    "from gensim.summarization.textcleaner import split_sentences\n",
    "from gensim import corpora, models, similarities"
   ]
  },
  {
   "cell_type": "code",
   "execution_count": 6,
   "metadata": {},
   "outputs": [],
   "source": [
    "CUSTOM_FILTERS=[remove_stopwords,strip_punctuation,strip_punctuation2,strip_non_alphanum] #remove_stopwords,strip_punctuation,strip_punctuation2,"
   ]
  },
  {
   "cell_type": "code",
   "execution_count": 7,
   "metadata": {},
   "outputs": [],
   "source": [
    "clean=[]\n",
    "for res in responsibilities:\n",
    "    respS=split_sentences(res)\n",
    "    S=[]\n",
    "    for one in respS:\n",
    "        S.append(preprocess_string(one,CUSTOM_FILTERS))\n",
    "    clean.append(S)"
   ]
  },
  {
   "cell_type": "code",
   "execution_count": 8,
   "metadata": {},
   "outputs": [],
   "source": [
    "dictionary=[]\n",
    "for Clist in clean:\n",
    "    dictionary.append(corpora.Dictionary(Clist))"
   ]
  },
  {
   "cell_type": "code",
   "execution_count": 9,
   "metadata": {},
   "outputs": [],
   "source": [
    "megacorpus=[]\n",
    "for Dict,text in zip(dictionary,clean):\n",
    "    corpus = [Dict.doc2bow(sent) for sent in text]\n",
    "    #print(corpus)\n",
    "    megacorpus.append(corpus)"
   ]
  },
  {
   "cell_type": "code",
   "execution_count": 10,
   "metadata": {},
   "outputs": [
    {
     "data": {
      "text/plain": [
       "[[(0, 1),\n",
       "  (1, 1),\n",
       "  (2, 1),\n",
       "  (3, 1),\n",
       "  (4, 1),\n",
       "  (5, 1),\n",
       "  (6, 1),\n",
       "  (7, 1),\n",
       "  (8, 1),\n",
       "  (9, 1),\n",
       "  (10, 1),\n",
       "  (11, 1),\n",
       "  (12, 1),\n",
       "  (13, 1),\n",
       "  (14, 1)]]"
      ]
     },
     "execution_count": 10,
     "metadata": {},
     "output_type": "execute_result"
    }
   ],
   "source": [
    "[megacorpus[2][0]]"
   ]
  },
  {
   "cell_type": "code",
   "execution_count": null,
   "metadata": {},
   "outputs": [],
   "source": []
  },
  {
   "cell_type": "code",
   "execution_count": 11,
   "metadata": {},
   "outputs": [],
   "source": [
    "megatfidf=[]\n",
    "for corpus in megacorpus:\n",
    "    tfidf = models.TfidfModel(corpus)\n",
    "    megatfidf.append(tfidf)"
   ]
  },
  {
   "cell_type": "code",
   "execution_count": 12,
   "metadata": {},
   "outputs": [],
   "source": [
    "index = similarities.SparseMatrixSimilarity(megatfidf[2][megacorpus[2]], num_features=300)"
   ]
  },
  {
   "cell_type": "code",
   "execution_count": 14,
   "metadata": {},
   "outputs": [
    {
     "data": {
      "text/plain": [
       "<gensim.models.tfidfmodel.TfidfModel at 0x1e18e6cd908>"
      ]
     },
     "execution_count": 14,
     "metadata": {},
     "output_type": "execute_result"
    }
   ],
   "source": [
    "megatfidf[2]"
   ]
  },
  {
   "cell_type": "code",
   "execution_count": 15,
   "metadata": {},
   "outputs": [
    {
     "data": {
      "text/plain": [
       "[[(0, 1),\n",
       "  (1, 1),\n",
       "  (2, 1),\n",
       "  (3, 1),\n",
       "  (4, 1),\n",
       "  (5, 1),\n",
       "  (6, 1),\n",
       "  (7, 1),\n",
       "  (8, 1),\n",
       "  (9, 1),\n",
       "  (10, 1),\n",
       "  (11, 1),\n",
       "  (12, 1),\n",
       "  (13, 1),\n",
       "  (14, 1)]]"
      ]
     },
     "execution_count": 15,
     "metadata": {},
     "output_type": "execute_result"
    }
   ],
   "source": [
    "[megacorpus[2][0]]"
   ]
  },
  {
   "cell_type": "code",
   "execution_count": 16,
   "metadata": {},
   "outputs": [
    {
     "data": {
      "text/plain": [
       "[(0, 0.2883641442780632),\n",
       " (1, 0.2883641442780632),\n",
       " (2, 0.2883641442780632),\n",
       " (3, 0.17654750569708305),\n",
       " (4, 0.2883641442780632),\n",
       " (5, 0.2883641442780632),\n",
       " (6, 0.17654750569708305),\n",
       " (7, 0.2883641442780632),\n",
       " (8, 0.2883641442780632),\n",
       " (9, 0.10599906147199656),\n",
       " (10, 0.21781570005297662),\n",
       " (11, 0.2883641442780632),\n",
       " (12, 0.21781570005297662),\n",
       " (13, 0.2883641442780632),\n",
       " (14, 0.2883641442780632)]"
      ]
     },
     "execution_count": 16,
     "metadata": {},
     "output_type": "execute_result"
    }
   ],
   "source": [
    "megatfidf[2][megacorpus[2][0]]"
   ]
  },
  {
   "cell_type": "code",
   "execution_count": null,
   "metadata": {},
   "outputs": [],
   "source": []
  },
  {
   "cell_type": "code",
   "execution_count": null,
   "metadata": {},
   "outputs": [],
   "source": []
  },
  {
   "cell_type": "code",
   "execution_count": 13,
   "metadata": {},
   "outputs": [
    {
     "name": "stdout",
     "output_type": "stream",
     "text": [
      "[(0, 1.0000001), (1, 0.05702047), (2, 0.011657806), (3, 0.0), (4, 0.07695382), (5, 0.0), (6, 0.051578797), (7, 0.008389864), (8, 0.0), (9, 0.0), (10, 0.010998999), (11, 0.060817022), (12, 0.0), (13, 0.0), (14, 0.018075047), (15, 0.0), (16, 0.0101365615)]\n"
     ]
    }
   ],
   "source": [
    "sims = index[megatfidf[2][megacorpus[2][0]]]\n",
    "print(list(enumerate(sims)))"
   ]
  },
  {
   "cell_type": "code",
   "execution_count": 19,
   "metadata": {},
   "outputs": [
    {
     "name": "stdout",
     "output_type": "stream",
     "text": [
      "[(0, 1.0000001), (1, 0.05702047), (2, 0.011657806), (3, 0.0), (4, 0.07695382), (5, 0.0), (6, 0.051578797), (7, 0.008389864), (8, 0.0), (9, 0.0), (10, 0.010998999), (11, 0.060817022), (12, 0.0), (13, 0.0), (14, 0.018075047), (15, 0.0), (16, 0.0101365615)]\n"
     ]
    }
   ],
   "source": [
    "sims = index[megatfidf[2][megacorpus[2][0]]]\n",
    "print(list(enumerate(sims)))"
   ]
  },
  {
   "cell_type": "code",
   "execution_count": 23,
   "metadata": {},
   "outputs": [
    {
     "name": "stdout",
     "output_type": "stream",
     "text": [
      "[(0, 0.05702047), (1, 1.0), (2, 0.026969941), (3, 0.046043932), (4, 0.037220225), (5, 0.0), (6, 0.024947094), (7, 0.008152663), (8, 0.04942973), (9, 0.0), (10, 0.100225985), (11, 0.038825274), (12, 0.0), (13, 0.02555062), (14, 0.02622705), (15, 0.0), (16, 0.051441956)]\n"
     ]
    }
   ],
   "source": [
    "sims = index[megatfidf[2][megacorpus[2][1]]]\n",
    "print(list(enumerate(sims)))"
   ]
  },
  {
   "cell_type": "code",
   "execution_count": 24,
   "metadata": {},
   "outputs": [
    {
     "name": "stdout",
     "output_type": "stream",
     "text": [
      "[(0, 0.011657806), (1, 0.026969941), (2, 1.0), (3, 0.0), (4, 0.068803415), (5, 0.053249706), (6, 0.0), (7, 0.025507564), (8, 0.05277843), (9, 0.02231174), (10, 0.01141211), (11, 0.020634169), (12, 0.0), (13, 0.02728159), (14, 0.04105297), (15, 0.024510872), (16, 0.05492698)]\n"
     ]
    }
   ],
   "source": [
    "sims = index[megatfidf[2][megacorpus[2][2]]]\n",
    "print(list(enumerate(sims)))"
   ]
  },
  {
   "cell_type": "code",
   "execution_count": 25,
   "metadata": {},
   "outputs": [
    {
     "name": "stdout",
     "output_type": "stream",
     "text": [
      "[(0, 0.0), (1, 0.046043932), (2, 0.0), (3, 0.99999994), (4, 0.018470103), (5, 0.019559182), (6, 0.11554991), (7, 0.0), (8, 0.033376284), (9, 0.022253165), (10, 0.0), (11, 0.0), (12, 0.0), (13, 0.0), (14, 0.013014868), (15, 0.0), (16, 0.05616805)]\n"
     ]
    }
   ],
   "source": [
    "sims = index[megatfidf[2][megacorpus[2][3]]]\n",
    "print(list(enumerate(sims)))"
   ]
  },
  {
   "cell_type": "code",
   "execution_count": 26,
   "metadata": {},
   "outputs": [
    {
     "name": "stdout",
     "output_type": "stream",
     "text": [
      "[(0, 0.07695382), (1, 0.037220225), (2, 0.068803415), (3, 0.018470103), (4, 0.9999999), (5, 0.13833308), (6, 0.14245385), (7, 0.03248153), (8, 0.027502632), (9, 0.026865773), (10, 0.024997255), (11, 0.0), (12, 0.0), (13, 0.021639274), (14, 0.19116989), (15, 0.0), (16, 0.0)]\n"
     ]
    }
   ],
   "source": [
    "sims = index[megatfidf[2][megacorpus[2][4]]]\n",
    "print(list(enumerate(sims)))"
   ]
  },
  {
   "cell_type": "code",
   "execution_count": 27,
   "metadata": {},
   "outputs": [
    {
     "name": "stdout",
     "output_type": "stream",
     "text": [
      "[(0, 0.0), (1, 0.0), (2, 0.053249706), (3, 0.019559182), (4, 0.13833308), (5, 0.9999998), (6, 0.016203888), (7, 0.06116198), (8, 0.044331335), (9, 0.050706267), (10, 0.0), (11, 0.034663416), (12, 0.018037334), (13, 0.0), (14, 0.058962204), (15, 0.020587951), (16, 0.0)]\n"
     ]
    }
   ],
   "source": [
    "sims = index[megatfidf[2][megacorpus[2][5]]]\n",
    "print(list(enumerate(sims)))"
   ]
  },
  {
   "cell_type": "code",
   "execution_count": 16,
   "metadata": {},
   "outputs": [
    {
     "data": {
      "text/plain": [
       "'Specific responsibilities will include: - Play a key role in operational integrity assurance by leading the development of maintenance inspection plans and procedures. - Collaborate with the rest of the Sunrise Operations team to execute maintenance strategies, procedures, workflows, practices and KPI’s with a focus on first in class asset management and culture. - Liaise with Asset Integrity Group regarding the appropriate scheduling of inspections - Ensure that data for the maintenance management CMMS system (SAP) is captured at the engineering stage. - Participate in the Risk and FMEA analysis for newly added equipment from recent projects resulting in criticality rankings and Maintenance strategies for equipment. - Lead in the development of equipment PM’s and the scheduling/load leveling of PM activities - Lead the development of spare parts listings and BOM’s and coordinate data management to achieve excellence in data integrity. - Lead in SAP data population of both equipment and master data - Work closely with Husky Procurement to develop work scopes for service contract RFQs, evaluate bids and award contracts. - Participate as required in the development of turnaround equipment PJP’s, planning and preparedness. - Supporting both day-to-day and turnaround maintenance planning and scheduling activities by identifying repair needs, prioritizing, detailing work, material and outside service requirements, and providing detailed resource estimates and work breakdown structures for required work. - Ensure Maintenance activities are planned efficiently with safety and environment consideration complying with all Husky practices, policies and regulations. - Inputting to, planning and scheduling of unit outages and major turnaround scopes and assist as required during unplanned equipment or plant outages. - Developing and monitoring of the day to day schedule and reporting on selected KPI’s with input and support from operations and maintenance team leaders. - Prioritizing, Planning and Scheduling the work of a multi-disciplined operational team using SAP and GWOS. - Manage notifications and work orders within due dates and maintain accurate backlogs. - Assist with vendor management of offsite repairs. - Input, analyze, report, monitor and assist in the management of the PM/PDM process in SAP - Monitoring and ensuring that a high standard of data integrity is being maintained in SAP inclusive of PM’s, BOM’s, equipment masters, material masters, entry of work order history into notifications and that proper notification & work order coding is maintained. - Supervise an on-site SAP Data technician. - Maintaining Preventative Maintenance programs and, where appropriate, move toward Predictive Maintenance - Working with the Sunrise Leadership Team in the preparation of maintenance operating and capital budgets \\xa0 '"
      ]
     },
     "execution_count": 16,
     "metadata": {},
     "output_type": "execute_result"
    }
   ],
   "source": [
    "responsibilities.iloc[2]"
   ]
  },
  {
   "cell_type": "code",
   "execution_count": 28,
   "metadata": {},
   "outputs": [
    {
     "data": {
      "text/plain": [
       "(1502,)"
      ]
     },
     "execution_count": 28,
     "metadata": {},
     "output_type": "execute_result"
    }
   ],
   "source": [
    "responsibilities.shape"
   ]
  },
  {
   "cell_type": "code",
   "execution_count": null,
   "metadata": {},
   "outputs": [],
   "source": []
  },
  {
   "cell_type": "code",
   "execution_count": null,
   "metadata": {},
   "outputs": [],
   "source": []
  },
  {
   "cell_type": "code",
   "execution_count": null,
   "metadata": {},
   "outputs": [],
   "source": []
  },
  {
   "cell_type": "code",
   "execution_count": null,
   "metadata": {},
   "outputs": [],
   "source": []
  },
  {
   "cell_type": "code",
   "execution_count": null,
   "metadata": {},
   "outputs": [],
   "source": []
  },
  {
   "cell_type": "code",
   "execution_count": null,
   "metadata": {},
   "outputs": [],
   "source": []
  },
  {
   "cell_type": "code",
   "execution_count": null,
   "metadata": {},
   "outputs": [],
   "source": []
  },
  {
   "cell_type": "code",
   "execution_count": null,
   "metadata": {},
   "outputs": [],
   "source": []
  },
  {
   "cell_type": "code",
   "execution_count": null,
   "metadata": {},
   "outputs": [],
   "source": []
  },
  {
   "cell_type": "markdown",
   "metadata": {},
   "source": [
    "# Function that takes a paragraph and finds similarity in the sentences"
   ]
  },
  {
   "cell_type": "code",
   "execution_count": 9,
   "metadata": {},
   "outputs": [],
   "source": [
    "import pandas as pd\n",
    "import numpy as np\n",
    "import nltk\n",
    "import gensim\n",
    "from gensim.models.doc2vec import Doc2Vec, TaggedDocument\n",
    "#from pandas import DataFrame, ExcelFile, read_csv, read_excel\n",
    "\n",
    "from gensim.parsing.preprocessing import remove_stopwords,strip_punctuation,strip_punctuation2,preprocess_string,strip_non_alphanum\n",
    "from gensim.summarization.textcleaner import split_sentences\n",
    "from gensim import corpora, models, similarities\n",
    "#from gensim.similarities import SoftCosineSimilarity, SparseTermSimilarityMatrix"
   ]
  },
  {
   "cell_type": "code",
   "execution_count": 10,
   "metadata": {},
   "outputs": [],
   "source": [
    "CUSTOM_FILTERS=[remove_stopwords,strip_punctuation,strip_punctuation2,strip_non_alphanum]\n",
    "para=\"Specific responsibilities include:   - Manage the permitting actions for the RCRA Hazardous Waste Installation and Operation Permit. - Manage the Corrective Actions Program/Site Remediation (including the Soil Management Program. - Supervise the waste handling contractors (including the internal movement of waste in containers/tanks), and possibly the Leak Detection and Repair (LDAR) contractors. - Function as the Oil Spill Director for the site, with responsibility for keeping the Integrated Contingency Plan current and conducting all identified drills. - Oversee the Stormwater Management Plan and the Biosolids Management Plan. - Manage the permitting process for the Deepwell Injection Project. - Support refinery compliance with applicable environmental regulation and permit requirements for the waste management program for the refinery. - Perform emissions and discharge calculations, completing regulatory compliance reports and coordinating environmental sampling and testing\"    \n",
    "respS=split_sentences(para)"
   ]
  },
  {
   "cell_type": "code",
   "execution_count": 11,
   "metadata": {},
   "outputs": [],
   "source": [
    "#respS"
   ]
  },
  {
   "cell_type": "code",
   "execution_count": 12,
   "metadata": {},
   "outputs": [],
   "source": [
    "S=[]\n",
    "for one in respS:\n",
    "    S.append(preprocess_string(one,CUSTOM_FILTERS))"
   ]
  },
  {
   "cell_type": "code",
   "execution_count": 13,
   "metadata": {},
   "outputs": [],
   "source": [
    "#S"
   ]
  },
  {
   "cell_type": "code",
   "execution_count": 14,
   "metadata": {},
   "outputs": [],
   "source": [
    "dictionary=corpora.Dictionary(S)\n",
    "corpus = [dictionary.doc2bow(sent) for sent in S]\n",
    "tfidf = models.TfidfModel(corpus)"
   ]
  },
  {
   "cell_type": "code",
   "execution_count": null,
   "metadata": {},
   "outputs": [],
   "source": []
  },
  {
   "cell_type": "code",
   "execution_count": 15,
   "metadata": {},
   "outputs": [],
   "source": [
    "a=tfidf[corpus[0]]"
   ]
  },
  {
   "cell_type": "code",
   "execution_count": 16,
   "metadata": {},
   "outputs": [],
   "source": [
    "index = similarities.SparseMatrixSimilarity(tfidf[corpus], num_features=300)"
   ]
  },
  {
   "cell_type": "code",
   "execution_count": null,
   "metadata": {},
   "outputs": [],
   "source": []
  },
  {
   "cell_type": "code",
   "execution_count": 17,
   "metadata": {},
   "outputs": [],
   "source": [
    "sims = index[tfidf[corpus[0]]]"
   ]
  },
  {
   "cell_type": "code",
   "execution_count": 18,
   "metadata": {},
   "outputs": [
    {
     "name": "stdout",
     "output_type": "stream",
     "text": [
      "[(0, 1.0000001), (1, 0.02142243), (2, 0.0), (3, 0.0), (4, 0.0), (5, 0.094524056), (6, 0.0), (7, 0.0)]\n"
     ]
    }
   ],
   "source": [
    "print(list(enumerate(sims)))"
   ]
  },
  {
   "cell_type": "code",
   "execution_count": null,
   "metadata": {},
   "outputs": [],
   "source": [
    "for c in corpus:\n",
    "    sims = index[tfidf[c]]\n",
    "    print(list(enumerate(sims)))"
   ]
  },
  {
   "cell_type": "code",
   "execution_count": null,
   "metadata": {},
   "outputs": [],
   "source": []
  },
  {
   "cell_type": "code",
   "execution_count": null,
   "metadata": {},
   "outputs": [],
   "source": []
  },
  {
   "cell_type": "code",
   "execution_count": null,
   "metadata": {},
   "outputs": [],
   "source": []
  },
  {
   "cell_type": "code",
   "execution_count": null,
   "metadata": {},
   "outputs": [],
   "source": []
  },
  {
   "cell_type": "code",
   "execution_count": null,
   "metadata": {},
   "outputs": [],
   "source": []
  },
  {
   "cell_type": "code",
   "execution_count": 19,
   "metadata": {},
   "outputs": [],
   "source": [
    "import pandas as pd\n",
    "import numpy as np\n",
    "import nltk\n",
    "import gensim\n",
    "from gensim.models.doc2vec import Doc2Vec, TaggedDocument\n",
    "#from pandas import DataFrame, ExcelFile, read_csv, read_excel\n",
    "\n",
    "from gensim.parsing.preprocessing import remove_stopwords,strip_punctuation,strip_punctuation2,preprocess_string,strip_non_alphanum\n",
    "from gensim.summarization.textcleaner import split_sentences\n",
    "from gensim import corpora, models, similarities\n",
    "#rom gensim.similarities import SoftCosineSimilarity, SparseTermSimilarityMatrix\n",
    "\n",
    "def Sim(para):\n",
    "    CUSTOM_FILTERS=[remove_stopwords,strip_punctuation,strip_punctuation2,strip_non_alphanum]\n",
    "    \n",
    "    respS=split_sentences(para)\n",
    "    \n",
    "    S=[]\n",
    "    for one in respS:\n",
    "        S.append(preprocess_string(one,CUSTOM_FILTERS))\n",
    "        \n",
    "    dictionary=corpora.Dictionary(S)\n",
    "    corpus = [dictionary.doc2bow(sent) for sent in S]\n",
    "    tfidf = models.TfidfModel(corpus)\n",
    "    \n",
    "    index = similarities.SparseMatrixSimilarity(tfidf[corpus], num_features=300)\n",
    "    \n",
    "    for c in corpus:\n",
    "        sims = index[tfidf[c]]\n",
    "        print(list(enumerate(sims)))"
   ]
  },
  {
   "cell_type": "code",
   "execution_count": 21,
   "metadata": {},
   "outputs": [
    {
     "name": "stdout",
     "output_type": "stream",
     "text": [
      "[(0, 1.0000001), (1, 0.02142243), (2, 0.0), (3, 0.0), (4, 0.0), (5, 0.094524056), (6, 0.0), (7, 0.0), (8, 1.0000001), (9, 0.02142243), (10, 0.0), (11, 0.0), (12, 0.0), (13, 0.094524056), (14, 0.0), (15, 0.0)]\n",
      "[(0, 0.02142243), (1, 1.0000001), (2, 0.033679675), (3, 0.0), (4, 0.109178655), (5, 0.032387167), (6, 0.0), (7, 0.0), (8, 0.02142243), (9, 1.0000001), (10, 0.033679675), (11, 0.0), (12, 0.109178655), (13, 0.032387167), (14, 0.0), (15, 0.0)]\n",
      "[(0, 0.0), (1, 0.033679675), (2, 1.0), (3, 0.0), (4, 0.0), (5, 0.0), (6, 0.06099056), (7, 0.0), (8, 0.0), (9, 0.033679675), (10, 1.0), (11, 0.0), (12, 0.0), (13, 0.0), (14, 0.06099056), (15, 0.0)]\n",
      "[(0, 0.0), (1, 0.0), (2, 0.0), (3, 0.99999994), (4, 0.09468285), (5, 0.0), (6, 0.0), (7, 0.0), (8, 0.0), (9, 0.0), (10, 0.0), (11, 0.99999994), (12, 0.09468285), (13, 0.0), (14, 0.0), (15, 0.0)]\n",
      "[(0, 0.0), (1, 0.109178655), (2, 0.0), (3, 0.09468285), (4, 1.0), (5, 0.0), (6, 0.0), (7, 0.0), (8, 0.0), (9, 0.109178655), (10, 0.0), (11, 0.09468285), (12, 1.0), (13, 0.0), (14, 0.0), (15, 0.0)]\n",
      "[(0, 0.094524056), (1, 0.032387167), (2, 0.0), (3, 0.0), (4, 0.0), (5, 1.0), (6, 0.0), (7, 0.0), (8, 0.094524056), (9, 0.032387167), (10, 0.0), (11, 0.0), (12, 0.0), (13, 1.0), (14, 0.0), (15, 0.0)]\n",
      "[(0, 0.0), (1, 0.0), (2, 0.06099056), (3, 0.0), (4, 0.0), (5, 0.0), (6, 1.0), (7, 0.07670355), (8, 0.0), (9, 0.0), (10, 0.06099056), (11, 0.0), (12, 0.0), (13, 0.0), (14, 1.0), (15, 0.07670355)]\n",
      "[(0, 0.0), (1, 0.0), (2, 0.0), (3, 0.0), (4, 0.0), (5, 0.0), (6, 0.07670355), (7, 1.0), (8, 0.0), (9, 0.0), (10, 0.0), (11, 0.0), (12, 0.0), (13, 0.0), (14, 0.07670355), (15, 1.0)]\n",
      "[(0, 1.0000001), (1, 0.02142243), (2, 0.0), (3, 0.0), (4, 0.0), (5, 0.094524056), (6, 0.0), (7, 0.0), (8, 1.0000001), (9, 0.02142243), (10, 0.0), (11, 0.0), (12, 0.0), (13, 0.094524056), (14, 0.0), (15, 0.0)]\n",
      "[(0, 0.02142243), (1, 1.0000001), (2, 0.033679675), (3, 0.0), (4, 0.109178655), (5, 0.032387167), (6, 0.0), (7, 0.0), (8, 0.02142243), (9, 1.0000001), (10, 0.033679675), (11, 0.0), (12, 0.109178655), (13, 0.032387167), (14, 0.0), (15, 0.0)]\n",
      "[(0, 0.0), (1, 0.033679675), (2, 1.0), (3, 0.0), (4, 0.0), (5, 0.0), (6, 0.06099056), (7, 0.0), (8, 0.0), (9, 0.033679675), (10, 1.0), (11, 0.0), (12, 0.0), (13, 0.0), (14, 0.06099056), (15, 0.0)]\n",
      "[(0, 0.0), (1, 0.0), (2, 0.0), (3, 0.99999994), (4, 0.09468285), (5, 0.0), (6, 0.0), (7, 0.0), (8, 0.0), (9, 0.0), (10, 0.0), (11, 0.99999994), (12, 0.09468285), (13, 0.0), (14, 0.0), (15, 0.0)]\n",
      "[(0, 0.0), (1, 0.109178655), (2, 0.0), (3, 0.09468285), (4, 1.0), (5, 0.0), (6, 0.0), (7, 0.0), (8, 0.0), (9, 0.109178655), (10, 0.0), (11, 0.09468285), (12, 1.0), (13, 0.0), (14, 0.0), (15, 0.0)]\n",
      "[(0, 0.094524056), (1, 0.032387167), (2, 0.0), (3, 0.0), (4, 0.0), (5, 1.0), (6, 0.0), (7, 0.0), (8, 0.094524056), (9, 0.032387167), (10, 0.0), (11, 0.0), (12, 0.0), (13, 1.0), (14, 0.0), (15, 0.0)]\n",
      "[(0, 0.0), (1, 0.0), (2, 0.06099056), (3, 0.0), (4, 0.0), (5, 0.0), (6, 1.0), (7, 0.07670355), (8, 0.0), (9, 0.0), (10, 0.06099056), (11, 0.0), (12, 0.0), (13, 0.0), (14, 1.0), (15, 0.07670355)]\n",
      "[(0, 0.0), (1, 0.0), (2, 0.0), (3, 0.0), (4, 0.0), (5, 0.0), (6, 0.07670355), (7, 1.0), (8, 0.0), (9, 0.0), (10, 0.0), (11, 0.0), (12, 0.0), (13, 0.0), (14, 0.07670355), (15, 1.0)]\n"
     ]
    }
   ],
   "source": [
    "Sim(\"Specific responsibilities include:   - Manage the permitting actions for the RCRA Hazardous Waste Installation and Operation Permit. - Manage the Corrective Actions Program/Site Remediation (including the Soil Management Program. - Supervise the waste handling contractors (including the internal movement of waste in containers/tanks), and possibly the Leak Detection and Repair (LDAR) contractors. - Function as the Oil Spill Director for the site, with responsibility for keeping the Integrated Contingency Plan current and conducting all identified drills. - Oversee the Stormwater Management Plan and the Biosolids Management Plan. - Manage the permitting process for the Deepwell Injection Project. - Support refinery compliance with applicable environmental regulation and permit requirements for the waste management program for the refinery. - Perform emissions and discharge calculations, completing regulatory compliance reports and coordinating environmental sampling and testing. Specific responsibilities include:   - Manage the permitting actions for the RCRA Hazardous Waste Installation and Operation Permit. - Manage the Corrective Actions Program/Site Remediation (including the Soil Management Program. - Supervise the waste handling contractors (including the internal movement of waste in containers/tanks), and possibly the Leak Detection and Repair (LDAR) contractors. - Function as the Oil Spill Director for the site, with responsibility for keeping the Integrated Contingency Plan current and conducting all identified drills. - Oversee the Stormwater Management Plan and the Biosolids Management Plan. - Manage the permitting process for the Deepwell Injection Project. - Support refinery compliance with applicable environmental regulation and permit requirements for the waste management program for the refinery. - Perform emissions and discharge calculations, completing regulatory compliance reports and coordinating environmental sampling and testing\")"
   ]
  },
  {
   "cell_type": "code",
   "execution_count": null,
   "metadata": {},
   "outputs": [],
   "source": []
  },
  {
   "cell_type": "code",
   "execution_count": 7,
   "metadata": {},
   "outputs": [
    {
     "data": {
      "text/plain": [
       "pandas.core.series.Series"
      ]
     },
     "execution_count": 7,
     "metadata": {},
     "output_type": "execute_result"
    }
   ],
   "source": [
    "type(responsibilities)"
   ]
  },
  {
   "cell_type": "code",
   "execution_count": 6,
   "metadata": {},
   "outputs": [],
   "source": [
    "responsibilities.dropna(inplace=True)"
   ]
  },
  {
   "cell_type": "code",
   "execution_count": 103,
   "metadata": {},
   "outputs": [
    {
     "data": {
      "text/plain": [
       "0    Specific responsibilities include:   - Manage the permitting actions for the RCRA Hazardous Waste Installation and Operation Permit. - Manage the Corrective Actions Program/Site Remediation (including the Soil Management Program. - Supervise the waste handling contractors (including the internal movement of waste in containers/tanks), and possibly the Leak Detection and Repair (LDAR) contractors. - Function as the Oil Spill Director for the site, with responsibility for keeping the Integrated Contingency Plan current and conducting all identified drills. - Oversee the Stormwater Management Plan and the Biosolids Management Plan. - Manage the permitting process for the Deepwell Injection Project. - Support refinery compliance with applicable environmental regulation and permit requirements for the waste management program for the refinery. - Perform emissions and discharge calculations, completing regulatory compliance reports and coordinating environmental sampling and testing acti...\n",
       "1                                                                  Specific responsibilities will include: - Portfolio management - coordinate and support BU capital planning efforts – enforce standards, check quality, analyze individual projects. Ensure project preparedness of AFE requests and package AFE requests for presentation to the SVP, Downstream for approval. - Act as gatekeeper for turnaround preparedness prior to full funding; optimize uptime by coordinating between Downstream assets - Establish the processes and procedures by which capital project close outs and look-backs are performed. - Maintaining and performing the established processes and procedures of capital approval, tracking, monitoring, close-outs and look-backs. - Champion change by supporting continuous improvement of business processes and systems Note: This position agrees with and has adopted the major elements of the HOIMS program with respect to the way in which all work is undertaken in this Business Unit.  \n",
       "4    Specific responsibilities will include: - Play a key role in operational integrity assurance by leading the development of maintenance inspection plans and procedures. - Collaborate with the rest of the Sunrise Operations team to execute maintenance strategies, procedures, workflows, practices and KPI’s with a focus on first in class asset management and culture. - Liaise with Asset Integrity Group regarding the appropriate scheduling of inspections - Ensure that data for the maintenance management CMMS system (SAP) is captured at the engineering stage. - Participate in the Risk and FMEA analysis for newly added equipment from recent projects resulting in criticality rankings and Maintenance strategies for equipment. - Lead in the development of equipment PM’s and the scheduling/load leveling of PM activities - Lead the development of spare parts listings and BOM’s and coordinate data management to achieve excellence in data integrity. - Lead in SAP data population of both equipmen...\n",
       "5    Core Responsibilities: - Providing process engineering input tothe project, especially at early stages, to determine the optimum project design and execution plan. - Ensuring appropriate attention is paid to capital cost, ongoing operating costs and reliability. - Participating in PFD's and P&ID's reviews as well as technology review studies - Undertaking process simulations (HYSYS) and U&O balances (steam, BFW, cooling water, etc.). - Overseeing process engineering performed by the Engineering Contractor(s). - Reviewing process engineering documents, including bids, purchase orders, and vendor data. - Ensuring interfaces between engineering contractors, construction contractors, commissioning contractors, vendors, utilities, regulatory authorities, and inspection agencies are aligned. - Interfacing with all applicable regulators to ensure compliance and acceptance of the processes. - Providing process technical input to hazard assessments and other safety reviews. - Providing proc...\n",
       "6                                                                                                                                                                                                                                                                                                                                                                                                                                    Key responsibilities include: - Working with Production engineers and Reservoir engineers to assist in the analysis of rock, fluid and wellbore properties to be used in reservoir management decisions and analysis - Monitoring of current well conditions and historical data comparisons - Assisting with data analysis to support ongoing drilling & production operations - Delivering an end of term presentation to other students, co-op supervisors and co-op office coordinators - Completing a work term project that requires investigation of a specific aspect of petroleum engineering \n",
       "Name: External: Responsibilities, dtype: object"
      ]
     },
     "execution_count": 103,
     "metadata": {},
     "output_type": "execute_result"
    }
   ],
   "source": [
    "responsibilities.head()"
   ]
  },
  {
   "cell_type": "code",
   "execution_count": 7,
   "metadata": {},
   "outputs": [],
   "source": [
    "from gensim.parsing.preprocessing import remove_stopwords,strip_punctuation,strip_punctuation2,preprocess_string,strip_non_alphanum"
   ]
  },
  {
   "cell_type": "code",
   "execution_count": 8,
   "metadata": {},
   "outputs": [],
   "source": [
    "CUSTOM_FILTERS=[remove_stopwords,strip_punctuation,strip_punctuation2,strip_non_alphanum] #remove_stopwords,strip_punctuation,strip_punctuation2,"
   ]
  },
  {
   "cell_type": "code",
   "execution_count": 18,
   "metadata": {},
   "outputs": [],
   "source": [
    "#preprocess_string(responsibilities.iloc[1],CUSTOM_FILTERS)"
   ]
  },
  {
   "cell_type": "code",
   "execution_count": 30,
   "metadata": {},
   "outputs": [
    {
     "data": {
      "text/plain": [
       "'Specific responsibilities include      Manage the permitting actions for the RCRA Hazardous Waste Installation and Operation Permit    Manage the Corrective Actions Program Site Remediation  including the Soil Management Program    Supervise the waste handling contractors  including the internal movement of waste in containers tanks   and possibly the Leak Detection and Repair  LDAR  contractors    Function as the Oil Spill Director for the site  with responsibility for keeping the Integrated Contingency Plan current and conducting all identified drills    Oversee the Stormwater Management Plan and the Biosolids Management Plan    Manage the permitting process for the Deepwell Injection Project    Support refinery compliance with applicable environmental regulation and permit requirements for the waste management program for the refinery    Perform emissions and discharge calculations  completing regulatory compliance reports and coordinating environmental sampling and testing activities    Assist in adapting procedures  processes  and techniquesto meet the more complex requirements of the position  including coordination of environmental vendors    Ensure operational records to demonstrate compliance with assigned environmental regulations programs are recorded  and properly retained    Ensure equipment inspections required by assigned environmental regulations and programs are properly satisfied  recorded  and reported to state  federal  or other government authorities  as applicable    Communicate effectively with plant operations and maintenance personnel to provide guidance and acquire information necessary to meet regulatory obligations    Support Environmental Group with agency inspections    Support Refinery Environmental Management System programs   '"
      ]
     },
     "execution_count": 30,
     "metadata": {},
     "output_type": "execute_result"
    }
   ],
   "source": [
    "strip_non_alphanum(responsibilities[1])"
   ]
  },
  {
   "cell_type": "code",
   "execution_count": 9,
   "metadata": {},
   "outputs": [],
   "source": [
    "from gensim.summarization.textcleaner import split_sentences\n",
    "from gensim import corpora"
   ]
  },
  {
   "cell_type": "code",
   "execution_count": 26,
   "metadata": {},
   "outputs": [],
   "source": [
    "a=split_sentences(responsibilities[1])"
   ]
  },
  {
   "cell_type": "code",
   "execution_count": 101,
   "metadata": {},
   "outputs": [
    {
     "data": {
      "text/plain": [
       "['Specific responsibilities will include: - Portfolio management - coordinate and support BU capital planning efforts – enforce standards, check quality, analyze individual projects.',\n",
       " 'Ensure project preparedness of AFE requests and package AFE requests for presentation to the SVP, Downstream for approval.',\n",
       " '- Act as gatekeeper for turnaround preparedness prior to full funding; optimize uptime by coordinating between Downstream assets - Establish the processes and procedures by which capital project close outs and look-backs are performed.',\n",
       " '- Maintaining and performing the established processes and procedures of capital approval, tracking, monitoring, close-outs and look-backs.',\n",
       " '- Champion change by supporting continuous improvement of business processes and systems Note: This position agrees with and has adopted the major elements of the HOIMS program with respect to the way in which all work is undertaken in this Business Unit.']"
      ]
     },
     "execution_count": 101,
     "metadata": {},
     "output_type": "execute_result"
    }
   ],
   "source": [
    "split_sentences(responsibilities[1])"
   ]
  },
  {
   "cell_type": "code",
   "execution_count": null,
   "metadata": {},
   "outputs": [],
   "source": [
    "for "
   ]
  },
  {
   "cell_type": "code",
   "execution_count": 72,
   "metadata": {},
   "outputs": [],
   "source": [
    "j=[]\n",
    "for a in split_sentences(responsibilities[5]):\n",
    "    j.append(preprocess_string(a,CUSTOM_FILTERS))"
   ]
  },
  {
   "cell_type": "code",
   "execution_count": 82,
   "metadata": {},
   "outputs": [
    {
     "data": {
      "text/plain": [
       "[['Core',\n",
       "  'Responsibilities',\n",
       "  'Providing',\n",
       "  'process',\n",
       "  'engineering',\n",
       "  'input',\n",
       "  'tothe',\n",
       "  'project',\n",
       "  'especially',\n",
       "  'early',\n",
       "  'stages',\n",
       "  'determine',\n",
       "  'optimum',\n",
       "  'project',\n",
       "  'design',\n",
       "  'execution',\n",
       "  'plan'],\n",
       " ['Ensuring',\n",
       "  'appropriate',\n",
       "  'attention',\n",
       "  'paid',\n",
       "  'capital',\n",
       "  'cost',\n",
       "  'ongoing',\n",
       "  'operating',\n",
       "  'costs',\n",
       "  'reliability'],\n",
       " ['Participating',\n",
       "  'PFD',\n",
       "  's',\n",
       "  'P',\n",
       "  'ID',\n",
       "  's',\n",
       "  'reviews',\n",
       "  'technology',\n",
       "  'review',\n",
       "  'studies',\n",
       "  'Undertaking',\n",
       "  'process',\n",
       "  'simulations',\n",
       "  'HYSYS',\n",
       "  'U',\n",
       "  'O',\n",
       "  'balances',\n",
       "  'steam',\n",
       "  'BFW',\n",
       "  'cooling',\n",
       "  'water',\n",
       "  'etc'],\n",
       " ['Overseeing',\n",
       "  'process',\n",
       "  'engineering',\n",
       "  'performed',\n",
       "  'Engineering',\n",
       "  'Contractor',\n",
       "  's'],\n",
       " ['Reviewing',\n",
       "  'process',\n",
       "  'engineering',\n",
       "  'documents',\n",
       "  'including',\n",
       "  'bids',\n",
       "  'purchase',\n",
       "  'orders',\n",
       "  'vendor',\n",
       "  'data'],\n",
       " ['Ensuring',\n",
       "  'interfaces',\n",
       "  'engineering',\n",
       "  'contractors',\n",
       "  'construction',\n",
       "  'contractors',\n",
       "  'commissioning',\n",
       "  'contractors',\n",
       "  'vendors',\n",
       "  'utilities',\n",
       "  'regulatory',\n",
       "  'authorities',\n",
       "  'inspection',\n",
       "  'agencies',\n",
       "  'aligned'],\n",
       " ['Interfacing',\n",
       "  'applicable',\n",
       "  'regulators',\n",
       "  'ensure',\n",
       "  'compliance',\n",
       "  'acceptance',\n",
       "  'processes'],\n",
       " ['Providing',\n",
       "  'process',\n",
       "  'technical',\n",
       "  'input',\n",
       "  'hazard',\n",
       "  'assessments',\n",
       "  'safety',\n",
       "  'reviews'],\n",
       " ['Providing',\n",
       "  'process',\n",
       "  'technical',\n",
       "  'guidance',\n",
       "  'construction',\n",
       "  'commissioning',\n",
       "  'andstart',\n",
       "  'up']]"
      ]
     },
     "execution_count": 82,
     "metadata": {},
     "output_type": "execute_result"
    }
   ],
   "source": [
    "j"
   ]
  },
  {
   "cell_type": "code",
   "execution_count": 76,
   "metadata": {},
   "outputs": [],
   "source": [
    "a=corpora.Dictionary(j)"
   ]
  },
  {
   "cell_type": "code",
   "execution_count": 79,
   "metadata": {},
   "outputs": [
    {
     "name": "stdout",
     "output_type": "stream",
     "text": [
      "{'Core': 0, 'Providing': 1, 'Responsibilities': 2, 'design': 3, 'determine': 4, 'early': 5, 'engineering': 6, 'especially': 7, 'execution': 8, 'input': 9, 'optimum': 10, 'plan': 11, 'process': 12, 'project': 13, 'stages': 14, 'tothe': 15, 'Ensuring': 16, 'appropriate': 17, 'attention': 18, 'capital': 19, 'cost': 20, 'costs': 21, 'ongoing': 22, 'operating': 23, 'paid': 24, 'reliability': 25, 'BFW': 26, 'HYSYS': 27, 'ID': 28, 'O': 29, 'P': 30, 'PFD': 31, 'Participating': 32, 'U': 33, 'Undertaking': 34, 'balances': 35, 'cooling': 36, 'etc': 37, 'review': 38, 'reviews': 39, 's': 40, 'simulations': 41, 'steam': 42, 'studies': 43, 'technology': 44, 'water': 45, 'Contractor': 46, 'Engineering': 47, 'Overseeing': 48, 'performed': 49, 'Reviewing': 50, 'bids': 51, 'data': 52, 'documents': 53, 'including': 54, 'orders': 55, 'purchase': 56, 'vendor': 57, 'agencies': 58, 'aligned': 59, 'authorities': 60, 'commissioning': 61, 'construction': 62, 'contractors': 63, 'inspection': 64, 'interfaces': 65, 'regulatory': 66, 'utilities': 67, 'vendors': 68, 'Interfacing': 69, 'acceptance': 70, 'applicable': 71, 'compliance': 72, 'ensure': 73, 'processes': 74, 'regulators': 75, 'assessments': 76, 'hazard': 77, 'safety': 78, 'technical': 79, 'andstart': 80, 'guidance': 81, 'up': 82}\n"
     ]
    }
   ],
   "source": [
    "print(a.token2id)"
   ]
  },
  {
   "cell_type": "code",
   "execution_count": 85,
   "metadata": {},
   "outputs": [
    {
     "data": {
      "text/plain": [
       "1502"
      ]
     },
     "execution_count": 85,
     "metadata": {},
     "output_type": "execute_result"
    }
   ],
   "source": [
    "len(clean)"
   ]
  },
  {
   "cell_type": "code",
   "execution_count": 86,
   "metadata": {},
   "outputs": [
    {
     "data": {
      "text/plain": [
       "1502"
      ]
     },
     "execution_count": 86,
     "metadata": {},
     "output_type": "execute_result"
    }
   ],
   "source": [
    "len(responsibilities)"
   ]
  },
  {
   "cell_type": "code",
   "execution_count": 87,
   "metadata": {},
   "outputs": [
    {
     "data": {
      "text/plain": [
       "1502"
      ]
     },
     "execution_count": 87,
     "metadata": {},
     "output_type": "execute_result"
    }
   ],
   "source": [
    "len(dictionary)"
   ]
  },
  {
   "cell_type": "code",
   "execution_count": 22,
   "metadata": {},
   "outputs": [],
   "source": [
    "processed=responsibilities.apply(lambda x:preprocess_string(x,CUSTOM_FILTERS))"
   ]
  },
  {
   "cell_type": "code",
   "execution_count": 10,
   "metadata": {},
   "outputs": [],
   "source": [
    "clean=[]\n",
    "for res in responsibilities[4:7]:\n",
    "    respS=split_sentences(res)\n",
    "    S=[]\n",
    "    for one in respS:\n",
    "        S.append(preprocess_string(one,CUSTOM_FILTERS))\n",
    "    clean.append(S)"
   ]
  },
  {
   "cell_type": "code",
   "execution_count": 84,
   "metadata": {},
   "outputs": [
    {
     "data": {
      "text/plain": [
       "[['Specific',\n",
       "  'responsibilities',\n",
       "  'include',\n",
       "  'Daily',\n",
       "  'rail',\n",
       "  'truck',\n",
       "  'operations',\n",
       "  'support',\n",
       "  'work',\n",
       "  'closely',\n",
       "  'logistics',\n",
       "  'balance',\n",
       "  'movement',\n",
       "  'product',\n",
       "  'Management',\n",
       "  '3rd',\n",
       "  'party',\n",
       "  'terminal',\n",
       "  'contracts',\n",
       "  'including',\n",
       "  'systems',\n",
       "  'set',\n",
       "  'up',\n",
       "  'pricing',\n",
       "  'volume',\n",
       "  'products',\n",
       "  'rate',\n",
       "  'handling',\n",
       "  'fees',\n",
       "  'Ownership',\n",
       "  'heavy',\n",
       "  'oil',\n",
       "  'production',\n",
       "  'plan',\n",
       "  'management',\n",
       "  'inventory',\n",
       "  'levels',\n",
       "  'asphalt',\n",
       "  'refinery',\n",
       "  'Pounder',\n",
       "  'Emulsionsand',\n",
       "  '3rd',\n",
       "  'party',\n",
       "  'terminals',\n",
       "  'Management',\n",
       "  'exchange',\n",
       "  'volumes',\n",
       "  'reconciliation',\n",
       "  'Acts',\n",
       "  'liaison',\n",
       "  'operations',\n",
       "  'sales',\n",
       "  'logistics',\n",
       "  'Reporting',\n",
       "  'metrics',\n",
       "  'forward',\n",
       "  'outlook',\n",
       "  'forecasts',\n",
       "  'nominations',\n",
       "  'production',\n",
       "  'plans',\n",
       "  'KPI',\n",
       "  's',\n",
       "  'Optimizes',\n",
       "  'balance',\n",
       "  'production',\n",
       "  'supply',\n",
       "  'mitigate',\n",
       "  'potential',\n",
       "  'run',\n",
       "  'outs',\n",
       "  'supply',\n",
       "  'disruptions',\n",
       "  'Provide',\n",
       "  'backup',\n",
       "  'logistics',\n",
       "  'team',\n",
       "  'required']]"
      ]
     },
     "execution_count": 84,
     "metadata": {},
     "output_type": "execute_result"
    }
   ],
   "source": [
    "clean[5]"
   ]
  },
  {
   "cell_type": "code",
   "execution_count": 41,
   "metadata": {},
   "outputs": [
    {
     "data": {
      "text/plain": [
       "[['Specific',\n",
       "  'responsibilities',\n",
       "  'include',\n",
       "  'Manage',\n",
       "  'permitting',\n",
       "  'actions',\n",
       "  'RCRA',\n",
       "  'Hazardous',\n",
       "  'Waste',\n",
       "  'Installation',\n",
       "  'Operation',\n",
       "  'Permit'],\n",
       " ['Manage',\n",
       "  'Corrective',\n",
       "  'Actions',\n",
       "  'Program',\n",
       "  'Site',\n",
       "  'Remediation',\n",
       "  'including',\n",
       "  'Soil',\n",
       "  'Management',\n",
       "  'Program'],\n",
       " ['Supervise',\n",
       "  'waste',\n",
       "  'handling',\n",
       "  'contractors',\n",
       "  'including',\n",
       "  'internal',\n",
       "  'movement',\n",
       "  'waste',\n",
       "  'containers',\n",
       "  'tanks',\n",
       "  'possibly',\n",
       "  'Leak',\n",
       "  'Detection',\n",
       "  'Repair',\n",
       "  'LDAR',\n",
       "  'contractors'],\n",
       " ['Function',\n",
       "  'Oil',\n",
       "  'Spill',\n",
       "  'Director',\n",
       "  'site',\n",
       "  'responsibility',\n",
       "  'keeping',\n",
       "  'Integrated',\n",
       "  'Contingency',\n",
       "  'Plan',\n",
       "  'current',\n",
       "  'conducting',\n",
       "  'identified',\n",
       "  'drills'],\n",
       " ['Oversee',\n",
       "  'Stormwater',\n",
       "  'Management',\n",
       "  'Plan',\n",
       "  'Biosolids',\n",
       "  'Management',\n",
       "  'Plan'],\n",
       " ['Manage', 'permitting', 'process', 'Deepwell', 'Injection', 'Project'],\n",
       " ['Support',\n",
       "  'refinery',\n",
       "  'compliance',\n",
       "  'applicable',\n",
       "  'environmental',\n",
       "  'regulation',\n",
       "  'permit',\n",
       "  'requirements',\n",
       "  'waste',\n",
       "  'management',\n",
       "  'program',\n",
       "  'refinery'],\n",
       " ['Perform',\n",
       "  'emissions',\n",
       "  'discharge',\n",
       "  'calculations',\n",
       "  'completing',\n",
       "  'regulatory',\n",
       "  'compliance',\n",
       "  'reports',\n",
       "  'coordinating',\n",
       "  'environmental',\n",
       "  'sampling',\n",
       "  'testing',\n",
       "  'activities'],\n",
       " ['Assist',\n",
       "  'adapting',\n",
       "  'procedures',\n",
       "  'processes',\n",
       "  'techniquesto',\n",
       "  'meet',\n",
       "  'complex',\n",
       "  'requirements',\n",
       "  'position',\n",
       "  'including',\n",
       "  'coordination',\n",
       "  'environmental',\n",
       "  'vendors'],\n",
       " ['Ensure',\n",
       "  'operational',\n",
       "  'records',\n",
       "  'demonstrate',\n",
       "  'compliance',\n",
       "  'assigned',\n",
       "  'environmental',\n",
       "  'regulations',\n",
       "  'programs',\n",
       "  'recorded',\n",
       "  'properly',\n",
       "  'retained'],\n",
       " ['Ensure',\n",
       "  'equipment',\n",
       "  'inspections',\n",
       "  'required',\n",
       "  'assigned',\n",
       "  'environmental',\n",
       "  'regulations',\n",
       "  'programs',\n",
       "  'properly',\n",
       "  'satisfied',\n",
       "  'recorded',\n",
       "  'reported',\n",
       "  'state',\n",
       "  'federal',\n",
       "  'government',\n",
       "  'authorities',\n",
       "  'applicable'],\n",
       " ['Communicate',\n",
       "  'effectively',\n",
       "  'plant',\n",
       "  'operations',\n",
       "  'maintenance',\n",
       "  'personnel',\n",
       "  'provide',\n",
       "  'guidance',\n",
       "  'acquire',\n",
       "  'information',\n",
       "  'necessary',\n",
       "  'meet',\n",
       "  'regulatory',\n",
       "  'obligations'],\n",
       " ['Support', 'Environmental', 'Group', 'agency', 'inspections'],\n",
       " ['Support', 'Refinery', 'Environmental', 'Management', 'System', 'programs']]"
      ]
     },
     "execution_count": 41,
     "metadata": {},
     "output_type": "execute_result"
    }
   ],
   "source": [
    "clean[0]"
   ]
  },
  {
   "cell_type": "code",
   "execution_count": 11,
   "metadata": {},
   "outputs": [],
   "source": [
    "dictionary=[]\n",
    "for Clist in clean:\n",
    "    dictionary.append(corpora.Dictionary(Clist))"
   ]
  },
  {
   "cell_type": "code",
   "execution_count": 39,
   "metadata": {},
   "outputs": [
    {
     "name": "stdout",
     "output_type": "stream",
     "text": [
      "Dictionary(121 unique tokens: ['Hazardous', 'Installation', 'Manage', 'Operation', 'Permit']...)\n"
     ]
    }
   ],
   "source": [
    "print(dictionary[0])"
   ]
  },
  {
   "cell_type": "code",
   "execution_count": 44,
   "metadata": {},
   "outputs": [
    {
     "ename": "AttributeError",
     "evalue": "'list' object has no attribute 'save'",
     "output_type": "error",
     "traceback": [
      "\u001b[1;31m---------------------------------------------------------------------------\u001b[0m",
      "\u001b[1;31mAttributeError\u001b[0m                            Traceback (most recent call last)",
      "\u001b[1;32m<ipython-input-44-0d2d53505a99>\u001b[0m in \u001b[0;36m<module>\u001b[1;34m()\u001b[0m\n\u001b[1;32m----> 1\u001b[1;33m \u001b[0mdictionary\u001b[0m\u001b[1;33m.\u001b[0m\u001b[0msave\u001b[0m\u001b[1;33m(\u001b[0m\u001b[1;34m'../Jupyter/responsibilities.dict'\u001b[0m\u001b[1;33m)\u001b[0m\u001b[1;33m\u001b[0m\u001b[0m\n\u001b[0m",
      "\u001b[1;31mAttributeError\u001b[0m: 'list' object has no attribute 'save'"
     ]
    }
   ],
   "source": [
    "dictionary.save('../Jupyter/responsibilities.dict')"
   ]
  },
  {
   "cell_type": "code",
   "execution_count": 55,
   "metadata": {},
   "outputs": [
    {
     "name": "stdout",
     "output_type": "stream",
     "text": [
      "{'3rd': 0, 'Acts': 1, 'Daily': 2, 'Emulsionsand': 3, 'KPI': 4, 'Management': 5, 'Optimizes': 6, 'Ownership': 7, 'Pounder': 8, 'Provide': 9, 'Reporting': 10, 'Specific': 11, 'asphalt': 12, 'backup': 13, 'balance': 14, 'closely': 15, 'contracts': 16, 'disruptions': 17, 'exchange': 18, 'fees': 19, 'forecasts': 20, 'forward': 21, 'handling': 22, 'heavy': 23, 'include': 24, 'including': 25, 'inventory': 26, 'levels': 27, 'liaison': 28, 'logistics': 29, 'management': 30, 'metrics': 31, 'mitigate': 32, 'movement': 33, 'nominations': 34, 'oil': 35, 'operations': 36, 'outlook': 37, 'outs': 38, 'party': 39, 'plan': 40, 'plans': 41, 'potential': 42, 'pricing': 43, 'product': 44, 'production': 45, 'products': 46, 'rail': 47, 'rate': 48, 'reconciliation': 49, 'refinery': 50, 'required': 51, 'responsibilities': 52, 'run': 53, 's': 54, 'sales': 55, 'set': 56, 'supply': 57, 'support': 58, 'systems': 59, 'team': 60, 'terminal': 61, 'terminals': 62, 'truck': 63, 'up': 64, 'volume': 65, 'volumes': 66, 'work': 67}\n"
     ]
    }
   ],
   "source": [
    "print(dictionary[5].token2id)"
   ]
  },
  {
   "cell_type": "code",
   "execution_count": 24,
   "metadata": {},
   "outputs": [
    {
     "data": {
      "text/plain": [
       "[['Key',\n",
       "  'responsibilities',\n",
       "  'include',\n",
       "  'Working',\n",
       "  'Production',\n",
       "  'engineers',\n",
       "  'Reservoir',\n",
       "  'engineers',\n",
       "  'assist',\n",
       "  'analysis',\n",
       "  'rock',\n",
       "  'fluid',\n",
       "  'wellbore',\n",
       "  'properties',\n",
       "  'reservoir',\n",
       "  'management',\n",
       "  'decisions',\n",
       "  'analysis',\n",
       "  'Monitoring',\n",
       "  'current',\n",
       "  'conditions',\n",
       "  'historical',\n",
       "  'data',\n",
       "  'comparisons',\n",
       "  'Assisting',\n",
       "  'data',\n",
       "  'analysis',\n",
       "  'support',\n",
       "  'ongoing',\n",
       "  'drilling',\n",
       "  'production',\n",
       "  'operations',\n",
       "  'Delivering',\n",
       "  'end',\n",
       "  'term',\n",
       "  'presentation',\n",
       "  'students',\n",
       "  'co',\n",
       "  'op',\n",
       "  'supervisors',\n",
       "  'co',\n",
       "  'op',\n",
       "  'office',\n",
       "  'coordinators',\n",
       "  'Completing',\n",
       "  'work',\n",
       "  'term',\n",
       "  'project',\n",
       "  'requires',\n",
       "  'investigation',\n",
       "  'specific',\n",
       "  'aspect',\n",
       "  'petroleum',\n",
       "  'engineering']]"
      ]
     },
     "execution_count": 24,
     "metadata": {},
     "output_type": "execute_result"
    }
   ],
   "source": [
    "clean[0]"
   ]
  },
  {
   "cell_type": "code",
   "execution_count": 23,
   "metadata": {},
   "outputs": [
    {
     "name": "stdout",
     "output_type": "stream",
     "text": [
      "[[(0, 1), (1, 1), (2, 1), (3, 1), (4, 1), (5, 1), (6, 1), (7, 1), (8, 3), (9, 1), (10, 1), (11, 2), (12, 1), (13, 1), (14, 1), (15, 1), (16, 2), (17, 1), (18, 1), (19, 1), (20, 1), (21, 2), (22, 1), (23, 1), (24, 1), (25, 1), (26, 1), (27, 1), (28, 1), (29, 2), (30, 1), (31, 1), (32, 1), (33, 1), (34, 1), (35, 1), (36, 1), (37, 1), (38, 1), (39, 1), (40, 1), (41, 1), (42, 1), (43, 1), (44, 2), (45, 1), (46, 1)]]\n",
      "[[(0, 2), (1, 1), (2, 1), (3, 1), (4, 1), (5, 2), (6, 1), (7, 1), (8, 1), (9, 1), (10, 1), (11, 1), (12, 1), (13, 1), (14, 2), (15, 1), (16, 1), (17, 1), (18, 1), (19, 1), (20, 1), (21, 1), (22, 1), (23, 1), (24, 1), (25, 1), (26, 1), (27, 1), (28, 1), (29, 3), (30, 1), (31, 1), (32, 1), (33, 1), (34, 1), (35, 1), (36, 2), (37, 1), (38, 1), (39, 2), (40, 1), (41, 1), (42, 1), (43, 1), (44, 1), (45, 3), (46, 1), (47, 1), (48, 1), (49, 1), (50, 1), (51, 1), (52, 1), (53, 1), (54, 1), (55, 1), (56, 1), (57, 2), (58, 1), (59, 1), (60, 1), (61, 1), (62, 1), (63, 1), (64, 1), (65, 1), (66, 1), (67, 1)]]\n",
      "[[(0, 1), (1, 1), (2, 1), (3, 1), (4, 1), (5, 1), (6, 1), (7, 1), (8, 1), (9, 1), (10, 1), (11, 1), (12, 1), (13, 1), (14, 1)], [(5, 1), (10, 1), (15, 1), (16, 1), (17, 1), (18, 1), (19, 1), (20, 1), (21, 1), (22, 1), (23, 1)], [(10, 1), (20, 1), (24, 1), (25, 1), (26, 1), (27, 1), (28, 1), (29, 1), (30, 1)], [(19, 1), (31, 1), (32, 1), (33, 1), (34, 1), (35, 1), (36, 1), (37, 1), (38, 1), (39, 1), (40, 1), (41, 1), (42, 1), (43, 1), (44, 1)], [(5, 1), (32, 1), (33, 1), (45, 1), (46, 1), (47, 1), (48, 1), (49, 1), (50, 1), (51, 1), (52, 1), (53, 1), (54, 1), (55, 1), (56, 1), (57, 1), (58, 2), (59, 1), (60, 1), (61, 1), (62, 1), (63, 2), (64, 1), (65, 1), (66, 1), (67, 1), (68, 1)], [(69, 1), (70, 1), (71, 1), (72, 1), (73, 1), (74, 1), (75, 1), (76, 1), (77, 1), (78, 1), (79, 1), (80, 1), (81, 1), (82, 1), (83, 1)], [(9, 1), (12, 1), (14, 1), (84, 1), (85, 1), (86, 1), (87, 1), (88, 1), (89, 1), (90, 1), (91, 1), (92, 1), (93, 1), (94, 1), (95, 1), (96, 1), (97, 1), (98, 1), (99, 1), (100, 1), (101, 1), (102, 1)], [(56, 1), (64, 1), (78, 1), (96, 1), (100, 1), (103, 1), (104, 1), (105, 1), (106, 1), (107, 1)], [(15, 1), (21, 1), (27, 1), (43, 1), (63, 1), (70, 1), (71, 1), (74, 1), (91, 1), (95, 1), (96, 2), (100, 1), (106, 1), (108, 1), (109, 1), (110, 1), (111, 1), (112, 1), (113, 1), (114, 1), (115, 1), (116, 1), (117, 1), (118, 1), (119, 1), (120, 1), (121, 1), (122, 1), (123, 1), (124, 1), (125, 1), (126, 1), (127, 1), (128, 1), (129, 1), (130, 1), (131, 1), (132, 1), (133, 1), (134, 1), (135, 1), (136, 1), (137, 1), (138, 1), (139, 1), (140, 1), (141, 1)], [(24, 1), (64, 1), (142, 1), (143, 1)]]\n"
     ]
    }
   ],
   "source": [
    "megacorpus=[]\n",
    "for Dict,text in zip(dictionary,clean):\n",
    "    corpus = [Dict.doc2bow(sent) for sent in text]\n",
    "    print(corpus)\n",
    "    megacorpus.append(corpus)"
   ]
  },
  {
   "cell_type": "code",
   "execution_count": 112,
   "metadata": {},
   "outputs": [],
   "source": [
    "#corpora.MmCorpus.serialize('../Jupyter/reposibilities.mm', megacorpus)"
   ]
  },
  {
   "cell_type": "code",
   "execution_count": 13,
   "metadata": {},
   "outputs": [],
   "source": [
    "from gensim import models"
   ]
  },
  {
   "cell_type": "code",
   "execution_count": 14,
   "metadata": {},
   "outputs": [],
   "source": [
    "megatfidf=[]\n",
    "for corpus in megacorpus:\n",
    "    tfidf = models.TfidfModel(corpus)\n",
    "    megatfidf.append(tfidf)"
   ]
  },
  {
   "cell_type": "code",
   "execution_count": 15,
   "metadata": {},
   "outputs": [],
   "source": [
    "from gensim import similarities"
   ]
  },
  {
   "cell_type": "code",
   "execution_count": 16,
   "metadata": {},
   "outputs": [],
   "source": [
    "index = similarities.SparseMatrixSimilarity(megatfidf[0][megacorpus[0]], num_features=12)"
   ]
  },
  {
   "cell_type": "code",
   "execution_count": null,
   "metadata": {},
   "outputs": [],
   "source": [
    "megacorpus[2]"
   ]
  },
  {
   "cell_type": "code",
   "execution_count": null,
   "metadata": {},
   "outputs": [],
   "source": [
    "megacorpus[0][0]"
   ]
  },
  {
   "cell_type": "code",
   "execution_count": null,
   "metadata": {},
   "outputs": [],
   "source": []
  },
  {
   "cell_type": "code",
   "execution_count": null,
   "metadata": {},
   "outputs": [],
   "source": [
    "sims = index[megatfidf[2][megacorpus[2][0]]]"
   ]
  },
  {
   "cell_type": "code",
   "execution_count": 1,
   "metadata": {},
   "outputs": [
    {
     "ename": "NameError",
     "evalue": "name 'sims' is not defined",
     "output_type": "error",
     "traceback": [
      "\u001b[1;31m---------------------------------------------------------------------------\u001b[0m",
      "\u001b[1;31mNameError\u001b[0m                                 Traceback (most recent call last)",
      "\u001b[1;32m<ipython-input-1-362ad80e8ba1>\u001b[0m in \u001b[0;36m<module>\u001b[1;34m()\u001b[0m\n\u001b[1;32m----> 1\u001b[1;33m \u001b[0mprint\u001b[0m\u001b[1;33m(\u001b[0m\u001b[0mlist\u001b[0m\u001b[1;33m(\u001b[0m\u001b[0menumerate\u001b[0m\u001b[1;33m(\u001b[0m\u001b[0msims\u001b[0m\u001b[1;33m)\u001b[0m\u001b[1;33m)\u001b[0m\u001b[1;33m)\u001b[0m\u001b[1;33m\u001b[0m\u001b[0m\n\u001b[0m",
      "\u001b[1;31mNameError\u001b[0m: name 'sims' is not defined"
     ]
    }
   ],
   "source": [
    "print(list(enumerate(sims)))"
   ]
  },
  {
   "cell_type": "code",
   "execution_count": null,
   "metadata": {},
   "outputs": [],
   "source": []
  },
  {
   "cell_type": "code",
   "execution_count": null,
   "metadata": {},
   "outputs": [],
   "source": []
  },
  {
   "cell_type": "code",
   "execution_count": null,
   "metadata": {},
   "outputs": [],
   "source": []
  },
  {
   "cell_type": "code",
   "execution_count": null,
   "metadata": {},
   "outputs": [],
   "source": []
  },
  {
   "cell_type": "code",
   "execution_count": null,
   "metadata": {},
   "outputs": [],
   "source": []
  },
  {
   "cell_type": "code",
   "execution_count": null,
   "metadata": {},
   "outputs": [],
   "source": []
  },
  {
   "cell_type": "code",
   "execution_count": null,
   "metadata": {},
   "outputs": [],
   "source": []
  },
  {
   "cell_type": "code",
   "execution_count": null,
   "metadata": {},
   "outputs": [],
   "source": []
  },
  {
   "cell_type": "code",
   "execution_count": null,
   "metadata": {},
   "outputs": [],
   "source": []
  },
  {
   "cell_type": "code",
   "execution_count": null,
   "metadata": {},
   "outputs": [],
   "source": []
  },
  {
   "cell_type": "code",
   "execution_count": null,
   "metadata": {},
   "outputs": [],
   "source": []
  },
  {
   "cell_type": "code",
   "execution_count": null,
   "metadata": {},
   "outputs": [],
   "source": []
  },
  {
   "cell_type": "code",
   "execution_count": null,
   "metadata": {},
   "outputs": [],
   "source": []
  },
  {
   "cell_type": "code",
   "execution_count": null,
   "metadata": {},
   "outputs": [],
   "source": []
  },
  {
   "cell_type": "code",
   "execution_count": null,
   "metadata": {},
   "outputs": [],
   "source": []
  },
  {
   "cell_type": "code",
   "execution_count": null,
   "metadata": {},
   "outputs": [],
   "source": []
  }
 ],
 "metadata": {
  "kernelspec": {
   "display_name": "Python 3",
   "language": "python",
   "name": "python3"
  },
  "language_info": {
   "codemirror_mode": {
    "name": "ipython",
    "version": 3
   },
   "file_extension": ".py",
   "mimetype": "text/x-python",
   "name": "python",
   "nbconvert_exporter": "python",
   "pygments_lexer": "ipython3",
   "version": "3.7.0"
  }
 },
 "nbformat": 4,
 "nbformat_minor": 2
}
