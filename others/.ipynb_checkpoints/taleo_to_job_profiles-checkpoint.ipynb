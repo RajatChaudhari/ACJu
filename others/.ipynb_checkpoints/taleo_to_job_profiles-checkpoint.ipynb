{
 "cells": [
  {
   "cell_type": "code",
   "execution_count": 1,
   "metadata": {},
   "outputs": [],
   "source": [
    "from sklearn.externals import joblib\n",
    "from nltk.tokenize import word_tokenize\n",
    "from pandas import DataFrame, ExcelFile, read_csv, read_excel"
   ]
  },
  {
   "cell_type": "code",
   "execution_count": 2,
   "metadata": {},
   "outputs": [],
   "source": [
    "def get_taleo_database(excel_path, sheet):\n",
    "    xls = ExcelFile(excel_path, sep = ';', encoding = 'utf-8')\n",
    "    df = read_excel(xls, sheet)\n",
    "    return df"
   ]
  },
  {
   "cell_type": "code",
   "execution_count": 3,
   "metadata": {},
   "outputs": [],
   "source": [
    "def tokenize_text(text):\n",
    "    return word_tokenize(text)"
   ]
  },
  {
   "cell_type": "code",
   "execution_count": 4,
   "metadata": {},
   "outputs": [],
   "source": [
    "def transform_data_to_tfidf(texts, tfidf_model):\n",
    "    strs = []\n",
    "    for text in texts:\n",
    "        stra = tokenize_text(text)\n",
    "        stra = ' '.join(stra)\n",
    "        strs.append(stra)\n",
    "    response = tfidf_model.transform(strs)\n",
    "    return response"
   ]
  },
  {
   "cell_type": "code",
   "execution_count": 5,
   "metadata": {},
   "outputs": [],
   "source": [
    "def categorize_items(line, section, section_identifier, tfidf_model):\n",
    "    items = line.split(' - ')[1:]\n",
    "    if items:\n",
    "        items_tfidf = transform_data_to_tfidf(items, tfidf_model)\n",
    "        labels = [section_identifier.predict(items_tfidf) for item in items]\n",
    "        return ('$$$%%%&&&'.join([item for item, label in zip(items, labels[0]) if label == section]))\n",
    "    return None"
   ]
  },
  {
   "cell_type": "code",
   "execution_count": 6,
   "metadata": {},
   "outputs": [
    {
     "ename": "FileNotFoundError",
     "evalue": "[Errno 2] No such file or directory: '../tfidf_model2018-10-16 160712.069502.pkl'",
     "output_type": "error",
     "traceback": [
      "\u001b[1;31m---------------------------------------------------------------------------\u001b[0m",
      "\u001b[1;31mFileNotFoundError\u001b[0m                         Traceback (most recent call last)",
      "\u001b[1;32m<ipython-input-6-ee5d9bcc5300>\u001b[0m in \u001b[0;36m<module>\u001b[1;34m()\u001b[0m\n\u001b[1;32m----> 1\u001b[1;33m \u001b[0mtfidf_model\u001b[0m \u001b[1;33m=\u001b[0m \u001b[0mjoblib\u001b[0m\u001b[1;33m.\u001b[0m\u001b[0mload\u001b[0m\u001b[1;33m(\u001b[0m\u001b[1;34m'../tfidf_model2018-10-16 160712.069502.pkl'\u001b[0m\u001b[1;33m)\u001b[0m\u001b[1;33m\u001b[0m\u001b[0m\n\u001b[0m\u001b[0;32m      2\u001b[0m \u001b[0msection_identifier\u001b[0m \u001b[1;33m=\u001b[0m \u001b[0mjoblib\u001b[0m\u001b[1;33m.\u001b[0m\u001b[0mload\u001b[0m\u001b[1;33m(\u001b[0m\u001b[1;34m'../classificador_secao_2018-10-16 160712.069502.pkl'\u001b[0m\u001b[1;33m)\u001b[0m\u001b[1;33m\u001b[0m\u001b[0m\n",
      "\u001b[1;32mC:\\D\\Installation\\Anaconda3\\lib\\site-packages\\sklearn\\externals\\joblib\\numpy_pickle.py\u001b[0m in \u001b[0;36mload\u001b[1;34m(filename, mmap_mode)\u001b[0m\n\u001b[0;32m    568\u001b[0m             \u001b[0mobj\u001b[0m \u001b[1;33m=\u001b[0m \u001b[0m_unpickle\u001b[0m\u001b[1;33m(\u001b[0m\u001b[0mfobj\u001b[0m\u001b[1;33m)\u001b[0m\u001b[1;33m\u001b[0m\u001b[0m\n\u001b[0;32m    569\u001b[0m     \u001b[1;32melse\u001b[0m\u001b[1;33m:\u001b[0m\u001b[1;33m\u001b[0m\u001b[0m\n\u001b[1;32m--> 570\u001b[1;33m         \u001b[1;32mwith\u001b[0m \u001b[0mopen\u001b[0m\u001b[1;33m(\u001b[0m\u001b[0mfilename\u001b[0m\u001b[1;33m,\u001b[0m \u001b[1;34m'rb'\u001b[0m\u001b[1;33m)\u001b[0m \u001b[1;32mas\u001b[0m \u001b[0mf\u001b[0m\u001b[1;33m:\u001b[0m\u001b[1;33m\u001b[0m\u001b[0m\n\u001b[0m\u001b[0;32m    571\u001b[0m             \u001b[1;32mwith\u001b[0m \u001b[0m_read_fileobject\u001b[0m\u001b[1;33m(\u001b[0m\u001b[0mf\u001b[0m\u001b[1;33m,\u001b[0m \u001b[0mfilename\u001b[0m\u001b[1;33m,\u001b[0m \u001b[0mmmap_mode\u001b[0m\u001b[1;33m)\u001b[0m \u001b[1;32mas\u001b[0m \u001b[0mfobj\u001b[0m\u001b[1;33m:\u001b[0m\u001b[1;33m\u001b[0m\u001b[0m\n\u001b[0;32m    572\u001b[0m                 \u001b[1;32mif\u001b[0m \u001b[0misinstance\u001b[0m\u001b[1;33m(\u001b[0m\u001b[0mfobj\u001b[0m\u001b[1;33m,\u001b[0m \u001b[0m_basestring\u001b[0m\u001b[1;33m)\u001b[0m\u001b[1;33m:\u001b[0m\u001b[1;33m\u001b[0m\u001b[0m\n",
      "\u001b[1;31mFileNotFoundError\u001b[0m: [Errno 2] No such file or directory: '../tfidf_model2018-10-16 160712.069502.pkl'"
     ]
    }
   ],
   "source": [
    "tfidf_model = joblib.load('../tfidf_model2018-10-16 160712.069502.pkl')\n",
    "section_identifier = joblib.load('../classificador_secao_2018-10-16 160712.069502.pkl')"
   ]
  },
  {
   "cell_type": "code",
   "execution_count": 8,
   "metadata": {},
   "outputs": [],
   "source": [
    "taleo_db = get_taleo_database('database/2016 - 2018 Taleo Job Postings - Updated.xlsx', 'All')"
   ]
  },
  {
   "cell_type": "code",
   "execution_count": 9,
   "metadata": {},
   "outputs": [],
   "source": [
    "output_df = DataFrame()"
   ]
  },
  {
   "cell_type": "code",
   "execution_count": 10,
   "metadata": {},
   "outputs": [],
   "source": [
    "output_df['Position Title:'] = taleo_db['Requisition Title']\n",
    "output_df['Department:'] = taleo_db['Job Family']\n",
    "taleo_db['External: Responsibilities'] = taleo_db['External: Responsibilities'].fillna('')\n",
    "output_df['responsabilities'] = taleo_db['External: Responsibilities'].apply(lambda x: '$$$%%%&&&'.join(x.strip().split('-')[1:]) if x else None)\n",
    "output_df['POSITION SUMMARY:'] = taleo_db['Original Description Section - External'] "
   ]
  },
  {
   "cell_type": "code",
   "execution_count": 30,
   "metadata": {},
   "outputs": [
    {
     "data": {
      "text/plain": [
       "' Manage the permitting actions for the RCRA Hazardous Waste Installation and Operation Permit. $$$%%%&&& Manage the Corrective Actions Program/Site Remediation (including the Soil Management Program. $$$%%%&&& Supervise the waste handling contractors (including the internal movement of waste in containers/tanks), and possibly the Leak Detection and Repair (LDAR) contractors. $$$%%%&&& Function as the Oil Spill Director for the site, with responsibility for keeping the Integrated Contingency Plan current and conducting all identified drills. $$$%%%&&& Oversee the Stormwater Management Plan and the Biosolids Management Plan. $$$%%%&&& Manage the permitting process for the Deepwell Injection Project. $$$%%%&&& Support refinery compliance with applicable environmental regulation and permit requirements for the waste management program for the refinery. $$$%%%&&& Perform emissions and discharge calculations, completing regulatory compliance reports and coordinating environmental sampling and testing activities. $$$%%%&&& Assist in adapting procedures, processes, and techniquesto meet the more complex requirements of the position, including coordination of environmental vendors. $$$%%%&&& Ensure operational records to demonstrate compliance with assigned environmental regulations/programs are recorded, and properly retained. $$$%%%&&& Ensure equipment inspections required by assigned environmental regulations and programs are properly satisfied, recorded, and reported to state, federal, or other government authorities, as applicable. $$$%%%&&& Communicate effectively with plant operations and maintenance personnel to provide guidance and acquire information necessary to meet regulatory obligations. $$$%%%&&& Support Environmental Group with agency inspections. $$$%%%&&& Support Refinery Environmental Management System programs'"
      ]
     },
     "execution_count": 30,
     "metadata": {},
     "output_type": "execute_result"
    }
   ],
   "source": [
    "output_df['responsabilities'][0]"
   ]
  },
  {
   "cell_type": "code",
   "execution_count": 31,
   "metadata": {},
   "outputs": [],
   "source": [
    "a=output_df['responsabilities'][0].split('$$$%%%&&&')"
   ]
  },
  {
   "cell_type": "code",
   "execution_count": 37,
   "metadata": {},
   "outputs": [
    {
     "data": {
      "text/plain": [
       "[' Manage the permitting actions for the RCRA Hazardous Waste Installation and Operation Permit. ',\n",
       " ' Manage the Corrective Actions Program/Site Remediation (including the Soil Management Program. ',\n",
       " ' Supervise the waste handling contractors (including the internal movement of waste in containers/tanks), and possibly the Leak Detection and Repair (LDAR) contractors. ',\n",
       " ' Function as the Oil Spill Director for the site, with responsibility for keeping the Integrated Contingency Plan current and conducting all identified drills. ',\n",
       " ' Oversee the Stormwater Management Plan and the Biosolids Management Plan. ',\n",
       " ' Manage the permitting process for the Deepwell Injection Project. ',\n",
       " ' Support refinery compliance with applicable environmental regulation and permit requirements for the waste management program for the refinery. ',\n",
       " ' Perform emissions and discharge calculations, completing regulatory compliance reports and coordinating environmental sampling and testing activities. ',\n",
       " ' Assist in adapting procedures, processes, and techniquesto meet the more complex requirements of the position, including coordination of environmental vendors. ',\n",
       " ' Ensure operational records to demonstrate compliance with assigned environmental regulations/programs are recorded, and properly retained. ',\n",
       " ' Ensure equipment inspections required by assigned environmental regulations and programs are properly satisfied, recorded, and reported to state, federal, or other government authorities, as applicable. ',\n",
       " ' Communicate effectively with plant operations and maintenance personnel to provide guidance and acquire information necessary to meet regulatory obligations. ',\n",
       " ' Support Environmental Group with agency inspections. ',\n",
       " ' Support Refinery Environmental Management System programs']"
      ]
     },
     "execution_count": 37,
     "metadata": {},
     "output_type": "execute_result"
    }
   ],
   "source": [
    "a"
   ]
  },
  {
   "cell_type": "code",
   "execution_count": 38,
   "metadata": {},
   "outputs": [],
   "source": [
    "resp_list1 = [i.strip() for i in a]"
   ]
  },
  {
   "cell_type": "code",
   "execution_count": 39,
   "metadata": {},
   "outputs": [
    {
     "data": {
      "text/plain": [
       "['Manage the permitting actions for the RCRA Hazardous Waste Installation and Operation Permit.',\n",
       " 'Manage the Corrective Actions Program/Site Remediation (including the Soil Management Program.',\n",
       " 'Supervise the waste handling contractors (including the internal movement of waste in containers/tanks), and possibly the Leak Detection and Repair (LDAR) contractors.',\n",
       " 'Function as the Oil Spill Director for the site, with responsibility for keeping the Integrated Contingency Plan current and conducting all identified drills.',\n",
       " 'Oversee the Stormwater Management Plan and the Biosolids Management Plan.',\n",
       " 'Manage the permitting process for the Deepwell Injection Project.',\n",
       " 'Support refinery compliance with applicable environmental regulation and permit requirements for the waste management program for the refinery.',\n",
       " 'Perform emissions and discharge calculations, completing regulatory compliance reports and coordinating environmental sampling and testing activities.',\n",
       " 'Assist in adapting procedures, processes, and techniquesto meet the more complex requirements of the position, including coordination of environmental vendors.',\n",
       " 'Ensure operational records to demonstrate compliance with assigned environmental regulations/programs are recorded, and properly retained.',\n",
       " 'Ensure equipment inspections required by assigned environmental regulations and programs are properly satisfied, recorded, and reported to state, federal, or other government authorities, as applicable.',\n",
       " 'Communicate effectively with plant operations and maintenance personnel to provide guidance and acquire information necessary to meet regulatory obligations.',\n",
       " 'Support Environmental Group with agency inspections.',\n",
       " 'Support Refinery Environmental Management System programs']"
      ]
     },
     "execution_count": 39,
     "metadata": {},
     "output_type": "execute_result"
    }
   ],
   "source": [
    "resp_list1"
   ]
  },
  {
   "cell_type": "code",
   "execution_count": 23,
   "metadata": {},
   "outputs": [],
   "source": [
    "b=[]\n",
    "for i in a:\n",
    "    b.append(i.strip())"
   ]
  },
  {
   "cell_type": "code",
   "execution_count": 24,
   "metadata": {},
   "outputs": [
    {
     "data": {
      "text/plain": [
       "['Manage the permitting actions for the RCRA Hazardous Waste Installation and Operation Permit.',\n",
       " 'Manage the Corrective Actions Program/Site Remediation (including the Soil Management Program.',\n",
       " 'Supervise the waste handling contractors (including the internal movement of waste in containers/tanks), and possibly the Leak Detection and Repair (LDAR) contractors.',\n",
       " 'Function as the Oil Spill Director for the site, with responsibility for keeping the Integrated Contingency Plan current and conducting all identified drills.',\n",
       " 'Oversee the Stormwater Management Plan and the Biosolids Management Plan.',\n",
       " 'Manage the permitting process for the Deepwell Injection Project.',\n",
       " 'Support refinery compliance with applicable environmental regulation and permit requirements for the waste management program for the refinery.',\n",
       " 'Perform emissions and discharge calculations, completing regulatory compliance reports and coordinating environmental sampling and testing activities.',\n",
       " 'Assist in adapting procedures, processes, and techniquesto meet the more complex requirements of the position, including coordination of environmental vendors.',\n",
       " 'Ensure operational records to demonstrate compliance with assigned environmental regulations/programs are recorded, and properly retained.',\n",
       " 'Ensure equipment inspections required by assigned environmental regulations and programs are properly satisfied, recorded, and reported to state, federal, or other government authorities, as applicable.',\n",
       " 'Communicate effectively with plant operations and maintenance personnel to provide guidance and acquire information necessary to meet regulatory obligations.',\n",
       " 'Support Environmental Group with agency inspections.',\n",
       " 'Support Refinery Environmental Management System programs']"
      ]
     },
     "execution_count": 24,
     "metadata": {},
     "output_type": "execute_result"
    }
   ],
   "source": [
    "b"
   ]
  },
  {
   "cell_type": "code",
   "execution_count": null,
   "metadata": {},
   "outputs": [],
   "source": []
  },
  {
   "cell_type": "code",
   "execution_count": null,
   "metadata": {},
   "outputs": [],
   "source": []
  },
  {
   "cell_type": "code",
   "execution_count": 9,
   "metadata": {},
   "outputs": [],
   "source": [
    "output_df['Position Title:'] = taleo_db['Requisition Title']\n",
    "output_df['Department:'] = taleo_db['Job Family']\n",
    "taleo_db['External: Responsibilities'] = taleo_db['External: Responsibilities'].fillna('')\n",
    "output_df['responsabilities'] = taleo_db['External: Responsibilities'].apply(lambda x: '$$$%%%&&&'.join(x.strip().split('-')[1:]) if x else None)\n",
    "output_df['POSITION SUMMARY:'] = taleo_db['Original Description Section - External'] \n",
    "output_df['Date Revised:  (Select today’s date)'] = taleo_db['Req. Creation Date']\n",
    "taleo_db['Qualifications - External'] = taleo_db['Qualifications - External'].fillna('')\n",
    "output_df['CA'] =  taleo_db['Qualifications - External'].apply(lambda x: categorize_items(x, 'CA', section_identifier, tfidf_model))\n",
    "output_df['CA_ASSET'] = ''\n",
    "output_df['CA_REQD'] = ''\n",
    "output_df['CP'] =  taleo_db['Qualifications - External'].apply(lambda x: categorize_items(x, 'CP', section_identifier, tfidf_model))\n",
    "output_df['CP_ASSET'] = ''\n",
    "output_df['CP_REQD'] = ''\n",
    "output_df['EI'] =  taleo_db['Qualifications - External'].apply(lambda x: categorize_items(x, 'EI', section_identifier, tfidf_model))\n",
    "output_df['EI_ASSET'] = ''\n",
    "output_df['EI_REQD'] = ''\n",
    "output_df['ER'] =  taleo_db['Qualifications - External'].apply(lambda x: categorize_items(x, 'ER', section_identifier, tfidf_model))\n",
    "output_df['ER_ASSET'] = ''\n",
    "output_df['ER_REQD'] = ''\n",
    "output_df['TS'] =  taleo_db['Qualifications - External'].apply(lambda x: categorize_items(x, 'TS', section_identifier, tfidf_model))\n",
    "output_df['TS_ASSET'] = ''\n",
    "output_df['TS_REQD'] = ''\n",
    "output_df['Location (city/site):'] = ''\n",
    "output_df['Reports To (Position):'] = ''\n",
    "output_df['Safety-Sensitive:'] = ''\n",
    "output_df['Title (and #) of Direct Reports:'] = ''\n",
    "output_df['competency_group'] = ''\n",
    "output_df['Bending/Crouching:'] = ''\n",
    "output_df['Climbing:'] = ''\n",
    "output_df['Driving:'] = ''\n",
    "output_df['Keyboarding:'] = ''\n",
    "output_df['Kneeling/Crawling:'] = ''\n",
    "output_df['On-call:'] = ''\n",
    "output_df['Operating equipment:'] = ''\n",
    "output_df['Sedentary/Sitting:'] = ''\n",
    "output_df['Shift work:'] = ''\n",
    "output_df['Travel:'] = ''\n",
    "output_df['Walking:'] = ''\n",
    "output_df['Manual tools:'] = ''\n",
    "output_df['Office equipment:'] = ''\n",
    "output_df['Pneumatic tools:'] = ''\n",
    "output_df['Power tools:'] = ''\n",
    "output_df['Shop tools:'] = ''\n",
    "output_df['Tool belt worn:'] = ''\n",
    "output_df['Vibration tools:'] = ''\n",
    "output_df['Welding:'] = ''\n",
    "output_df[' Extreme heat/cold:'] = ''\n",
    "output_df['Chemicals:'] = ''\n",
    "output_df['Confined spaces:'] = ''\n",
    "output_df['Heights:'] = ''\n",
    "output_df['Moving equipment:'] = ''\n",
    "output_df['Night time:'] = ''\n",
    "output_df['Noise:'] = ''\n",
    "output_df['Outdoors:'] = ''\n",
    "output_df['Rotating equipment:'] = ''\n",
    "output_df['Toxic gases:'] = ''\n",
    "output_df['Uneven surfaces:'] = ''\n",
    "output_df['Wet or damp:'] = ''\n",
    "output_df['Light 11-20 pounds:'] = ''\n",
    "output_df['Medium 21-50 pounds:'] = ''\n",
    "output_df['Sedentary 0-10 pounds:'] = ''\n",
    "output_df['Carrying:'] = ''\n",
    "output_df['Lifting:'] = ''\n",
    "output_df['Pushing/pulling:'] = ''\n",
    "output_df['Standing:'] = ''"
   ]
  },
  {
   "cell_type": "code",
   "execution_count": 40,
   "metadata": {},
   "outputs": [],
   "source": [
    "a=[\"\"]"
   ]
  },
  {
   "cell_type": "code",
   "execution_count": 41,
   "metadata": {},
   "outputs": [
    {
     "data": {
      "text/plain": [
       "1"
      ]
     },
     "execution_count": 41,
     "metadata": {},
     "output_type": "execute_result"
    }
   ],
   "source": [
    "len(a)"
   ]
  },
  {
   "cell_type": "code",
   "execution_count": 42,
   "metadata": {},
   "outputs": [
    {
     "data": {
      "text/plain": [
       "True"
      ]
     },
     "execution_count": 42,
     "metadata": {},
     "output_type": "execute_result"
    }
   ],
   "source": [
    "a==[\"\"]"
   ]
  },
  {
   "cell_type": "code",
   "execution_count": 43,
   "metadata": {},
   "outputs": [],
   "source": [
    "b=a[0]"
   ]
  },
  {
   "cell_type": "code",
   "execution_count": 44,
   "metadata": {},
   "outputs": [
    {
     "data": {
      "text/plain": [
       "''"
      ]
     },
     "execution_count": 44,
     "metadata": {},
     "output_type": "execute_result"
    }
   ],
   "source": [
    "b"
   ]
  },
  {
   "cell_type": "code",
   "execution_count": null,
   "metadata": {},
   "outputs": [],
   "source": []
  }
 ],
 "metadata": {
  "kernelspec": {
   "display_name": "Python 3",
   "language": "python",
   "name": "python3"
  },
  "language_info": {
   "codemirror_mode": {
    "name": "ipython",
    "version": 3
   },
   "file_extension": ".py",
   "mimetype": "text/x-python",
   "name": "python",
   "nbconvert_exporter": "python",
   "pygments_lexer": "ipython3",
   "version": "3.7.0"
  }
 },
 "nbformat": 4,
 "nbformat_minor": 2
}
