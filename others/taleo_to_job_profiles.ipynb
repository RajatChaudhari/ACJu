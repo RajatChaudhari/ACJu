{
 "cells": [
  {
   "cell_type": "code",
   "execution_count": 1,
   "metadata": {},
   "outputs": [],
   "source": [
    "from sklearn.externals import joblib\n",
    "from nltk.tokenize import word_tokenize\n",
    "from pandas import DataFrame, ExcelFile, read_csv, read_excel"
   ]
  },
  {
   "cell_type": "code",
   "execution_count": 2,
   "metadata": {},
   "outputs": [],
   "source": [
    "def get_taleo_database(excel_path, sheet):\n",
    "    xls = ExcelFile(excel_path, sep = ';', encoding = 'utf-8')\n",
    "    df = read_excel(xls, sheet)\n",
    "    return df"
   ]
  },
  {
   "cell_type": "code",
   "execution_count": 3,
   "metadata": {},
   "outputs": [],
   "source": [
    "def tokenize_text(text):\n",
    "    return word_tokenize(text)"
   ]
  },
  {
   "cell_type": "code",
   "execution_count": 4,
   "metadata": {},
   "outputs": [],
   "source": [
    "def transform_data_to_tfidf(texts, tfidf_model):\n",
    "    strs = []\n",
    "    for text in texts:\n",
    "        stra = tokenize_text(text)\n",
    "        stra = ' '.join(stra)\n",
    "        strs.append(stra)\n",
    "    response = tfidf_model.transform(strs)\n",
    "    return response"
   ]
  },
  {
   "cell_type": "code",
   "execution_count": 44,
   "metadata": {},
   "outputs": [],
   "source": [
    "def categorize_items(line, section, section_identifier, tfidf_model):\n",
    "    items = line.split(' - ')[1:]\n",
    "    if items:\n",
    "        items_tfidf = transform_data_to_tfidf(items, tfidf_model)\n",
    "        labels = [section_identifier.predict(items_tfidf) for item in items]\n",
    "        return ('$$$%%%&&&'.join([item for item, label in zip(items, labels[0]) if label == section]))\n",
    "    return None"
   ]
  },
  {
   "cell_type": "code",
   "execution_count": 23,
   "metadata": {},
   "outputs": [],
   "source": [
    "tfidf_model = joblib.load('../others/tfidf_model2019-03-05 183214.924115.pkl')\n",
    "section_identifier = joblib.load('../others/classifier2019-03-05 183214.924115.pkl')"
   ]
  },
  {
   "cell_type": "code",
   "execution_count": 48,
   "metadata": {},
   "outputs": [],
   "source": [
    "taleo_db = get_taleo_database('../2016 - 2018 Taleo Job Postings - Updated.xlsx', 'All')"
   ]
  },
  {
   "cell_type": "code",
   "execution_count": 52,
   "metadata": {},
   "outputs": [],
   "source": [
    "output_df = DataFrame()"
   ]
  },
  {
   "cell_type": "code",
   "execution_count": 57,
   "metadata": {},
   "outputs": [],
   "source": [
    "output_df['Position Title:'] = taleo_db['Requisition Title']\n",
    "output_df['Department:'] = taleo_db['Job Family']\n",
    "taleo_db['External: Responsibilities'] = taleo_db['External: Responsibilities'].fillna('')\n",
    "output_df['responsibilities'] = taleo_db['External: Responsibilities'].apply(lambda x: ''.join(x.strip().split('-')[1:]) if x else None)\n",
    "output_df['POSITION SUMMARY:'] = taleo_db['Original Description Section - External']"
   ]
  },
  {
   "cell_type": "code",
   "execution_count": 58,
   "metadata": {},
   "outputs": [
    {
     "data": {
      "text/plain": [
       "' Manage the permitting actions for the RCRA Hazardous Waste Installation and Operation Permit.  Manage the Corrective Actions Program/Site Remediation (including the Soil Management Program.  Supervise the waste handling contractors (including the internal movement of waste in containers/tanks), and possibly the Leak Detection and Repair (LDAR) contractors.  Function as the Oil Spill Director for the site, with responsibility for keeping the Integrated Contingency Plan current and conducting all identified drills.  Oversee the Stormwater Management Plan and the Biosolids Management Plan.  Manage the permitting process for the Deepwell Injection Project.  Support refinery compliance with applicable environmental regulation and permit requirements for the waste management program for the refinery.  Perform emissions and discharge calculations, completing regulatory compliance reports and coordinating environmental sampling and testing activities.  Assist in adapting procedures, processes, and techniquesto meet the more complex requirements of the position, including coordination of environmental vendors.  Ensure operational records to demonstrate compliance with assigned environmental regulations/programs are recorded, and properly retained.  Ensure equipment inspections required by assigned environmental regulations and programs are properly satisfied, recorded, and reported to state, federal, or other government authorities, as applicable.  Communicate effectively with plant operations and maintenance personnel to provide guidance and acquire information necessary to meet regulatory obligations.  Support Environmental Group with agency inspections.  Support Refinery Environmental Management System programs'"
      ]
     },
     "execution_count": 58,
     "metadata": {},
     "output_type": "execute_result"
    }
   ],
   "source": [
    "output_df['responsibilities'][0]"
   ]
  },
  {
   "cell_type": "code",
   "execution_count": 59,
   "metadata": {},
   "outputs": [],
   "source": [
    "a=output_df['responsibilities'][0].split('.')"
   ]
  },
  {
   "cell_type": "code",
   "execution_count": 60,
   "metadata": {},
   "outputs": [
    {
     "data": {
      "text/plain": [
       "[' Manage the permitting actions for the RCRA Hazardous Waste Installation and Operation Permit',\n",
       " ' ',\n",
       " '  Manage the Corrective Actions Program/Site Remediation (including the Soil Management Program',\n",
       " ' ',\n",
       " '  Supervise the waste handling contractors (including the internal movement of waste in containers/tanks), and possibly the Leak Detection and Repair (LDAR) contractors',\n",
       " ' ',\n",
       " '  Function as the Oil Spill Director for the site, with responsibility for keeping the Integrated Contingency Plan current and conducting all identified drills',\n",
       " ' ',\n",
       " '  Oversee the Stormwater Management Plan and the Biosolids Management Plan',\n",
       " ' ',\n",
       " '  Manage the permitting process for the Deepwell Injection Project',\n",
       " ' ',\n",
       " '  Support refinery compliance with applicable environmental regulation and permit requirements for the waste management program for the refinery',\n",
       " ' ',\n",
       " '  Perform emissions and discharge calculations, completing regulatory compliance reports and coordinating environmental sampling and testing activities',\n",
       " ' ',\n",
       " '  Assist in adapting procedures, processes, and techniquesto meet the more complex requirements of the position, including coordination of environmental vendors',\n",
       " ' ',\n",
       " '  Ensure operational records to demonstrate compliance with assigned environmental regulations/programs are recorded, and properly retained',\n",
       " ' ',\n",
       " '  Ensure equipment inspections required by assigned environmental regulations and programs are properly satisfied, recorded, and reported to state, federal, or other government authorities, as applicable',\n",
       " ' ',\n",
       " '  Communicate effectively with plant operations and maintenance personnel to provide guidance and acquire information necessary to meet regulatory obligations',\n",
       " ' ',\n",
       " '  Support Environmental Group with agency inspections',\n",
       " ' ',\n",
       " '  Support Refinery Environmental Management System programs']"
      ]
     },
     "execution_count": 60,
     "metadata": {},
     "output_type": "execute_result"
    }
   ],
   "source": [
    "a"
   ]
  },
  {
   "cell_type": "code",
   "execution_count": 15,
   "metadata": {},
   "outputs": [],
   "source": [
    "resp_list1 = [i.strip() for i in a]"
   ]
  },
  {
   "cell_type": "code",
   "execution_count": 16,
   "metadata": {},
   "outputs": [
    {
     "data": {
      "text/plain": [
       "['Manage the permitting actions for the RCRA Hazardous Waste Installation and Operation Permit.',\n",
       " 'Manage the Corrective Actions Program/Site Remediation (including the Soil Management Program.',\n",
       " 'Supervise the waste handling contractors (including the internal movement of waste in containers/tanks), and possibly the Leak Detection and Repair (LDAR) contractors.',\n",
       " 'Function as the Oil Spill Director for the site, with responsibility for keeping the Integrated Contingency Plan current and conducting all identified drills.',\n",
       " 'Oversee the Stormwater Management Plan and the Biosolids Management Plan.',\n",
       " 'Manage the permitting process for the Deepwell Injection Project.',\n",
       " 'Support refinery compliance with applicable environmental regulation and permit requirements for the waste management program for the refinery.',\n",
       " 'Perform emissions and discharge calculations, completing regulatory compliance reports and coordinating environmental sampling and testing activities.',\n",
       " 'Assist in adapting procedures, processes, and techniquesto meet the more complex requirements of the position, including coordination of environmental vendors.',\n",
       " 'Ensure operational records to demonstrate compliance with assigned environmental regulations/programs are recorded, and properly retained.',\n",
       " 'Ensure equipment inspections required by assigned environmental regulations and programs are properly satisfied, recorded, and reported to state, federal, or other government authorities, as applicable.',\n",
       " 'Communicate effectively with plant operations and maintenance personnel to provide guidance and acquire information necessary to meet regulatory obligations.',\n",
       " 'Support Environmental Group with agency inspections.',\n",
       " 'Support Refinery Environmental Management System programs']"
      ]
     },
     "execution_count": 16,
     "metadata": {},
     "output_type": "execute_result"
    }
   ],
   "source": [
    "resp_list1"
   ]
  },
  {
   "cell_type": "code",
   "execution_count": 17,
   "metadata": {},
   "outputs": [],
   "source": [
    "b=[]\n",
    "for i in a:\n",
    "    b.append(i.strip())"
   ]
  },
  {
   "cell_type": "code",
   "execution_count": 18,
   "metadata": {},
   "outputs": [
    {
     "data": {
      "text/plain": [
       "['Manage the permitting actions for the RCRA Hazardous Waste Installation and Operation Permit.',\n",
       " 'Manage the Corrective Actions Program/Site Remediation (including the Soil Management Program.',\n",
       " 'Supervise the waste handling contractors (including the internal movement of waste in containers/tanks), and possibly the Leak Detection and Repair (LDAR) contractors.',\n",
       " 'Function as the Oil Spill Director for the site, with responsibility for keeping the Integrated Contingency Plan current and conducting all identified drills.',\n",
       " 'Oversee the Stormwater Management Plan and the Biosolids Management Plan.',\n",
       " 'Manage the permitting process for the Deepwell Injection Project.',\n",
       " 'Support refinery compliance with applicable environmental regulation and permit requirements for the waste management program for the refinery.',\n",
       " 'Perform emissions and discharge calculations, completing regulatory compliance reports and coordinating environmental sampling and testing activities.',\n",
       " 'Assist in adapting procedures, processes, and techniquesto meet the more complex requirements of the position, including coordination of environmental vendors.',\n",
       " 'Ensure operational records to demonstrate compliance with assigned environmental regulations/programs are recorded, and properly retained.',\n",
       " 'Ensure equipment inspections required by assigned environmental regulations and programs are properly satisfied, recorded, and reported to state, federal, or other government authorities, as applicable.',\n",
       " 'Communicate effectively with plant operations and maintenance personnel to provide guidance and acquire information necessary to meet regulatory obligations.',\n",
       " 'Support Environmental Group with agency inspections.',\n",
       " 'Support Refinery Environmental Management System programs']"
      ]
     },
     "execution_count": 18,
     "metadata": {},
     "output_type": "execute_result"
    }
   ],
   "source": [
    "b"
   ]
  },
  {
   "cell_type": "code",
   "execution_count": null,
   "metadata": {},
   "outputs": [],
   "source": []
  },
  {
   "cell_type": "code",
   "execution_count": null,
   "metadata": {},
   "outputs": [],
   "source": []
  },
  {
   "cell_type": "code",
   "execution_count": 62,
   "metadata": {},
   "outputs": [
    {
     "data": {
      "text/plain": [
       "\"output_df['TS_ASSET'] = ''\\noutput_df['TS_REQD'] = ''\\noutput_df['Location (city/site):'] = ''\\noutput_df['Reports To (Position):'] = ''\\noutput_df['Safety-Sensitive:'] = ''\\noutput_df['Title (and #) of Direct Reports:'] = ''\\noutput_df['competency_group'] = ''\\noutput_df['Bending/Crouching:'] = ''\\noutput_df['Climbing:'] = ''\\noutput_df['Driving:'] = ''\\noutput_df['Keyboarding:'] = ''\\noutput_df['Kneeling/Crawling:'] = ''\\noutput_df['On-call:'] = ''\\noutput_df['Operating equipment:'] = ''\\noutput_df['Sedentary/Sitting:'] = ''\\noutput_df['Shift work:'] = ''\\noutput_df['Travel:'] = ''\\noutput_df['Walking:'] = ''\\noutput_df['Manual tools:'] = ''\\noutput_df['Office equipment:'] = ''\\noutput_df['Pneumatic tools:'] = ''\\noutput_df['Power tools:'] = ''\\noutput_df['Shop tools:'] = ''\\noutput_df['Tool belt worn:'] = ''\\noutput_df['Vibration tools:'] = ''\\noutput_df['Welding:'] = ''\\noutput_df[' Extreme heat/cold:'] = ''\\noutput_df['Chemicals:'] = ''\\noutput_df['Confined spaces:'] = ''\\noutput_df['Heights:'] = ''\\noutput_df['Moving equipment:'] = ''\\noutput_df['Night time:'] = ''\\noutput_df['Noise:'] = ''\\noutput_df['Outdoors:'] = ''\\noutput_df['Rotating equipment:'] = ''\\noutput_df['Toxic gases:'] = ''\\noutput_df['Uneven surfaces:'] = ''\\noutput_df['Wet or damp:'] = ''\\noutput_df['Light 11-20 pounds:'] = ''\\noutput_df['Medium 21-50 pounds:'] = ''\\noutput_df['Sedentary 0-10 pounds:'] = ''\\noutput_df['Carrying:'] = ''\\noutput_df['Lifting:'] = ''\\noutput_df['Pushing/pulling:'] = ''\\noutput_df['Standing:'] = \""
      ]
     },
     "execution_count": 62,
     "metadata": {},
     "output_type": "execute_result"
    }
   ],
   "source": [
    "output_df['Position Title:'] = taleo_db['Requisition Title']\n",
    "output_df['Department:'] = taleo_db['Job Family']\n",
    "taleo_db['External: Responsibilities'] = taleo_db['External: Responsibilities'].fillna('',inplace=True)\n",
    "output_df['responsibilities'] = taleo_db['External: Responsibilities'].apply(lambda x: ''.join(x.strip().split('-')[1:]) if x else None)\n",
    "output_df['POSITION SUMMARY:'] = taleo_db['Original Description Section - External'] \n",
    "output_df['Date Revised:  (Select today’s date)'] = taleo_db['Req. Creation Date']\n",
    "taleo_db['Qualifications - External'] = taleo_db['Qualifications - External'].fillna('')\n",
    "output_df['CA'] =  taleo_db['Qualifications - External'].apply(lambda x: categorize_items(x, 'CA', section_identifier, tfidf_model))\n",
    "'''output_df['CA_ASSET'] = ''\n",
    "output_df['CA_REQD'] = '''''\n",
    "output_df['CP'] =  taleo_db['Qualifications - External'].apply(lambda x: categorize_items(x, 'CP', section_identifier, tfidf_model))\n",
    "'''output_df['CP_ASSET'] = ''\n",
    "output_df['CP_REQD'] = '''''\n",
    "output_df['EI'] =  taleo_db['Qualifications - External'].apply(lambda x: categorize_items(x, 'EI', section_identifier, tfidf_model))\n",
    "'''output_df['EI_ASSET'] = ''\n",
    "output_df['EI_REQD'] = '''''\n",
    "output_df['ER'] =  taleo_db['Qualifications - External'].apply(lambda x: categorize_items(x, 'ER', section_identifier, tfidf_model))\n",
    "'''output_df['ER_ASSET'] = ''\n",
    "output_df['ER_REQD'] = '''''\n",
    "output_df['TS'] =  taleo_db['Qualifications - External'].apply(lambda x: categorize_items(x, 'TS', section_identifier, tfidf_model))\n",
    "'''output_df['TS_ASSET'] = ''\n",
    "output_df['TS_REQD'] = ''\n",
    "output_df['Location (city/site):'] = ''\n",
    "output_df['Reports To (Position):'] = ''\n",
    "output_df['Safety-Sensitive:'] = ''\n",
    "output_df['Title (and #) of Direct Reports:'] = ''\n",
    "output_df['competency_group'] = ''\n",
    "output_df['Bending/Crouching:'] = ''\n",
    "output_df['Climbing:'] = ''\n",
    "output_df['Driving:'] = ''\n",
    "output_df['Keyboarding:'] = ''\n",
    "output_df['Kneeling/Crawling:'] = ''\n",
    "output_df['On-call:'] = ''\n",
    "output_df['Operating equipment:'] = ''\n",
    "output_df['Sedentary/Sitting:'] = ''\n",
    "output_df['Shift work:'] = ''\n",
    "output_df['Travel:'] = ''\n",
    "output_df['Walking:'] = ''\n",
    "output_df['Manual tools:'] = ''\n",
    "output_df['Office equipment:'] = ''\n",
    "output_df['Pneumatic tools:'] = ''\n",
    "output_df['Power tools:'] = ''\n",
    "output_df['Shop tools:'] = ''\n",
    "output_df['Tool belt worn:'] = ''\n",
    "output_df['Vibration tools:'] = ''\n",
    "output_df['Welding:'] = ''\n",
    "output_df[' Extreme heat/cold:'] = ''\n",
    "output_df['Chemicals:'] = ''\n",
    "output_df['Confined spaces:'] = ''\n",
    "output_df['Heights:'] = ''\n",
    "output_df['Moving equipment:'] = ''\n",
    "output_df['Night time:'] = ''\n",
    "output_df['Noise:'] = ''\n",
    "output_df['Outdoors:'] = ''\n",
    "output_df['Rotating equipment:'] = ''\n",
    "output_df['Toxic gases:'] = ''\n",
    "output_df['Uneven surfaces:'] = ''\n",
    "output_df['Wet or damp:'] = ''\n",
    "output_df['Light 11-20 pounds:'] = ''\n",
    "output_df['Medium 21-50 pounds:'] = ''\n",
    "output_df['Sedentary 0-10 pounds:'] = ''\n",
    "output_df['Carrying:'] = ''\n",
    "output_df['Lifting:'] = ''\n",
    "output_df['Pushing/pulling:'] = ''\n",
    "output_df['Standing:'] = '''''"
   ]
  },
  {
   "cell_type": "code",
   "execution_count": 40,
   "metadata": {},
   "outputs": [],
   "source": [
    "a=[\"\"]"
   ]
  },
  {
   "cell_type": "code",
   "execution_count": 41,
   "metadata": {},
   "outputs": [
    {
     "data": {
      "text/plain": [
       "1"
      ]
     },
     "execution_count": 41,
     "metadata": {},
     "output_type": "execute_result"
    }
   ],
   "source": [
    "len(a)"
   ]
  },
  {
   "cell_type": "code",
   "execution_count": 42,
   "metadata": {},
   "outputs": [
    {
     "data": {
      "text/plain": [
       "True"
      ]
     },
     "execution_count": 42,
     "metadata": {},
     "output_type": "execute_result"
    }
   ],
   "source": [
    "a==[\"\"]"
   ]
  },
  {
   "cell_type": "code",
   "execution_count": 43,
   "metadata": {},
   "outputs": [],
   "source": [
    "b=a[0]"
   ]
  },
  {
   "cell_type": "code",
   "execution_count": 44,
   "metadata": {},
   "outputs": [
    {
     "data": {
      "text/plain": [
       "''"
      ]
     },
     "execution_count": 44,
     "metadata": {},
     "output_type": "execute_result"
    }
   ],
   "source": [
    "b"
   ]
  },
  {
   "cell_type": "code",
   "execution_count": 63,
   "metadata": {},
   "outputs": [],
   "source": [
    "output_df.to_csv(\"profiles1.csv\",sep=',',index=False)"
   ]
  },
  {
   "cell_type": "code",
   "execution_count": null,
   "metadata": {},
   "outputs": [],
   "source": []
  }
 ],
 "metadata": {
  "kernelspec": {
   "display_name": "Python 3",
   "language": "python",
   "name": "python3"
  },
  "language_info": {
   "codemirror_mode": {
    "name": "ipython",
    "version": 3
   },
   "file_extension": ".py",
   "mimetype": "text/x-python",
   "name": "python",
   "nbconvert_exporter": "python",
   "pygments_lexer": "ipython3",
   "version": "3.7.0"
  }
 },
 "nbformat": 4,
 "nbformat_minor": 2
}
